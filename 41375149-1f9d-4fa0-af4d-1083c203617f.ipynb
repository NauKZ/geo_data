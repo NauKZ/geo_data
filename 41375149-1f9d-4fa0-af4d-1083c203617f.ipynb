{
 "cells": [
  {
   "cell_type": "markdown",
   "metadata": {},
   "source": [
    "# Выбор локации для скважины"
   ]
  },
  {
   "cell_type": "markdown",
   "metadata": {},
   "source": [
    "Допустим, вы работаете в добывающей компании «ГлавРосГосНефть». Нужно решить, где бурить новую скважину.\n",
    "\n",
    "Вам предоставлены пробы нефти в трёх регионах: в каждом 10 000 месторождений, где измерили качество нефти и объём её запасов. Постройте модель машинного обучения, которая поможет определить регион, где добыча принесёт наибольшую прибыль. Проанализируйте возможную прибыль и риски техникой *Bootstrap.*\n",
    "\n",
    "Шаги для выбора локации:\n",
    "\n",
    "- В избранном регионе ищут месторождения, для каждого определяют значения признаков;\n",
    "- Строят модель и оценивают объём запасов;\n",
    "- Выбирают месторождения с самым высокими оценками значений. Количество месторождений зависит от бюджета компании и стоимости разработки одной скважины;\n",
    "- Прибыль равна суммарной прибыли отобранных месторождений."
   ]
  },
  {
   "cell_type": "markdown",
   "metadata": {},
   "source": [
    "## Загрузка и подготовка данных"
   ]
  },
  {
   "cell_type": "code",
   "execution_count": 111,
   "metadata": {},
   "outputs": [
    {
     "name": "stdout",
     "output_type": "stream",
     "text": [
      "Defaulting to user installation because normal site-packages is not writeable\n",
      "Requirement already satisfied: jupyter_contrib_nbextensions in /opt/conda/lib/python3.7/site-packages (0.5.1)\n",
      "Requirement already satisfied: jupyter-nbextensions-configurator>=0.4.0 in /opt/conda/lib/python3.7/site-packages (from jupyter_contrib_nbextensions) (0.4.1)\n",
      "Requirement already satisfied: lxml in /opt/conda/lib/python3.7/site-packages (from jupyter_contrib_nbextensions) (4.4.1)\n",
      "Requirement already satisfied: jupyter-highlight-selected-word>=0.1.1 in /opt/conda/lib/python3.7/site-packages (from jupyter_contrib_nbextensions) (0.2.0)\n",
      "Requirement already satisfied: notebook>=4.0 in /opt/conda/lib/python3.7/site-packages (from jupyter_contrib_nbextensions) (6.1.4)\n",
      "Requirement already satisfied: jupyter-latex-envs>=1.3.8 in /opt/conda/lib/python3.7/site-packages (from jupyter_contrib_nbextensions) (1.4.6)\n",
      "Requirement already satisfied: tornado in /opt/conda/lib/python3.7/site-packages (from jupyter_contrib_nbextensions) (6.1)\n",
      "Requirement already satisfied: nbconvert>=4.2 in /opt/conda/lib/python3.7/site-packages (from jupyter_contrib_nbextensions) (5.5.0)\n",
      "Requirement already satisfied: jupyter-core in /opt/conda/lib/python3.7/site-packages (from jupyter_contrib_nbextensions) (4.6.2)\n",
      "Requirement already satisfied: ipython-genutils in /opt/conda/lib/python3.7/site-packages (from jupyter_contrib_nbextensions) (0.2.0)\n",
      "Requirement already satisfied: pyyaml in /opt/conda/lib/python3.7/site-packages (from jupyter_contrib_nbextensions) (5.4.1)\n",
      "Requirement already satisfied: jupyter-contrib-core>=0.3.3 in /opt/conda/lib/python3.7/site-packages (from jupyter_contrib_nbextensions) (0.3.3)\n",
      "Requirement already satisfied: traitlets>=4.1 in /opt/conda/lib/python3.7/site-packages (from jupyter_contrib_nbextensions) (5.0.5)\n",
      "Requirement already satisfied: ipykernel in /opt/conda/lib/python3.7/site-packages (from notebook>=4.0->jupyter_contrib_nbextensions) (5.5.5)\n",
      "Requirement already satisfied: jinja2 in /opt/conda/lib/python3.7/site-packages (from notebook>=4.0->jupyter_contrib_nbextensions) (2.11.2)\n",
      "Requirement already satisfied: terminado>=0.8.3 in /opt/conda/lib/python3.7/site-packages (from notebook>=4.0->jupyter_contrib_nbextensions) (0.10.0)\n",
      "Requirement already satisfied: nbformat in /opt/conda/lib/python3.7/site-packages (from notebook>=4.0->jupyter_contrib_nbextensions) (4.4.0)\n",
      "Requirement already satisfied: Send2Trash in /opt/conda/lib/python3.7/site-packages (from notebook>=4.0->jupyter_contrib_nbextensions) (1.5.0)\n",
      "Requirement already satisfied: pyzmq>=17 in /opt/conda/lib/python3.7/site-packages (from notebook>=4.0->jupyter_contrib_nbextensions) (22.0.3)\n",
      "Requirement already satisfied: argon2-cffi in /opt/conda/lib/python3.7/site-packages (from notebook>=4.0->jupyter_contrib_nbextensions) (20.1.0)\n",
      "Requirement already satisfied: prometheus-client in /opt/conda/lib/python3.7/site-packages (from notebook>=4.0->jupyter_contrib_nbextensions) (0.8.0)\n",
      "Requirement already satisfied: jupyter-client>=5.3.4 in /opt/conda/lib/python3.7/site-packages (from notebook>=4.0->jupyter_contrib_nbextensions) (5.3.4)\n",
      "Requirement already satisfied: ipython in /opt/conda/lib/python3.7/site-packages (from jupyter-latex-envs>=1.3.8->jupyter_contrib_nbextensions) (7.24.1)\n",
      "Requirement already satisfied: pandocfilters>=1.4.1 in /opt/conda/lib/python3.7/site-packages (from nbconvert>=4.2->jupyter_contrib_nbextensions) (1.4.2)\n",
      "Requirement already satisfied: mistune>=0.8.1 in /opt/conda/lib/python3.7/site-packages (from nbconvert>=4.2->jupyter_contrib_nbextensions) (0.8.4)\n",
      "Requirement already satisfied: entrypoints>=0.2.2 in /opt/conda/lib/python3.7/site-packages (from nbconvert>=4.2->jupyter_contrib_nbextensions) (0.3)\n",
      "Requirement already satisfied: testpath in /opt/conda/lib/python3.7/site-packages (from nbconvert>=4.2->jupyter_contrib_nbextensions) (0.4.4)\n",
      "Requirement already satisfied: defusedxml in /opt/conda/lib/python3.7/site-packages (from nbconvert>=4.2->jupyter_contrib_nbextensions) (0.6.0)\n",
      "Requirement already satisfied: pygments in /opt/conda/lib/python3.7/site-packages (from nbconvert>=4.2->jupyter_contrib_nbextensions) (2.7.2)\n",
      "Requirement already satisfied: bleach in /opt/conda/lib/python3.7/site-packages (from nbconvert>=4.2->jupyter_contrib_nbextensions) (3.2.1)\n",
      "Requirement already satisfied: setuptools in /opt/conda/lib/python3.7/site-packages (from jupyter-contrib-core>=0.3.3->jupyter_contrib_nbextensions) (49.6.0.post20210108)\n",
      "Requirement already satisfied: MarkupSafe>=0.23 in /opt/conda/lib/python3.7/site-packages (from jinja2->notebook>=4.0->jupyter_contrib_nbextensions) (2.0.1)\n",
      "Requirement already satisfied: ptyprocess; os_name != \"nt\" in /opt/conda/lib/python3.7/site-packages (from terminado>=0.8.3->notebook>=4.0->jupyter_contrib_nbextensions) (0.6.0)\n",
      "Requirement already satisfied: jsonschema!=2.5.0,>=2.4 in /opt/conda/lib/python3.7/site-packages (from nbformat->notebook>=4.0->jupyter_contrib_nbextensions) (3.2.0)\n",
      "Requirement already satisfied: six in /opt/conda/lib/python3.7/site-packages (from argon2-cffi->notebook>=4.0->jupyter_contrib_nbextensions) (1.15.0)\n",
      "Requirement already satisfied: cffi>=1.0.0 in /opt/conda/lib/python3.7/site-packages (from argon2-cffi->notebook>=4.0->jupyter_contrib_nbextensions) (1.14.4)\n",
      "Requirement already satisfied: python-dateutil>=2.1 in /opt/conda/lib/python3.7/site-packages (from jupyter-client>=5.3.4->notebook>=4.0->jupyter_contrib_nbextensions) (2.8.1)\n",
      "Requirement already satisfied: prompt-toolkit!=3.0.0,!=3.0.1,<3.1.0,>=2.0.0 in /opt/conda/lib/python3.7/site-packages (from ipython->jupyter-latex-envs>=1.3.8->jupyter_contrib_nbextensions) (3.0.8)\n",
      "Requirement already satisfied: pickleshare in /opt/conda/lib/python3.7/site-packages (from ipython->jupyter-latex-envs>=1.3.8->jupyter_contrib_nbextensions) (0.7.5)\n",
      "Requirement already satisfied: matplotlib-inline in /opt/conda/lib/python3.7/site-packages (from ipython->jupyter-latex-envs>=1.3.8->jupyter_contrib_nbextensions) (0.1.2)\n",
      "Requirement already satisfied: pexpect>4.3; sys_platform != \"win32\" in /opt/conda/lib/python3.7/site-packages (from ipython->jupyter-latex-envs>=1.3.8->jupyter_contrib_nbextensions) (4.8.0)\n",
      "Requirement already satisfied: decorator in /opt/conda/lib/python3.7/site-packages (from ipython->jupyter-latex-envs>=1.3.8->jupyter_contrib_nbextensions) (4.4.2)\n",
      "Requirement already satisfied: jedi>=0.16 in /opt/conda/lib/python3.7/site-packages (from ipython->jupyter-latex-envs>=1.3.8->jupyter_contrib_nbextensions) (0.17.2)\n",
      "Requirement already satisfied: backcall in /opt/conda/lib/python3.7/site-packages (from ipython->jupyter-latex-envs>=1.3.8->jupyter_contrib_nbextensions) (0.2.0)\n",
      "Requirement already satisfied: packaging in /opt/conda/lib/python3.7/site-packages (from bleach->nbconvert>=4.2->jupyter_contrib_nbextensions) (20.4)\n",
      "Requirement already satisfied: webencodings in /opt/conda/lib/python3.7/site-packages (from bleach->nbconvert>=4.2->jupyter_contrib_nbextensions) (0.5.1)\n",
      "Requirement already satisfied: importlib-metadata; python_version < \"3.8\" in /opt/conda/lib/python3.7/site-packages (from jsonschema!=2.5.0,>=2.4->nbformat->notebook>=4.0->jupyter_contrib_nbextensions) (2.0.0)\n",
      "Requirement already satisfied: attrs>=17.4.0 in /opt/conda/lib/python3.7/site-packages (from jsonschema!=2.5.0,>=2.4->nbformat->notebook>=4.0->jupyter_contrib_nbextensions) (19.1.0)\n",
      "Requirement already satisfied: pyrsistent>=0.14.0 in /opt/conda/lib/python3.7/site-packages (from jsonschema!=2.5.0,>=2.4->nbformat->notebook>=4.0->jupyter_contrib_nbextensions) (0.17.3)\n",
      "Requirement already satisfied: pycparser in /opt/conda/lib/python3.7/site-packages (from cffi>=1.0.0->argon2-cffi->notebook>=4.0->jupyter_contrib_nbextensions) (2.20)\n",
      "Requirement already satisfied: wcwidth in /opt/conda/lib/python3.7/site-packages (from prompt-toolkit!=3.0.0,!=3.0.1,<3.1.0,>=2.0.0->ipython->jupyter-latex-envs>=1.3.8->jupyter_contrib_nbextensions) (0.2.5)\n",
      "Requirement already satisfied: parso<0.8.0,>=0.7.0 in /opt/conda/lib/python3.7/site-packages (from jedi>=0.16->ipython->jupyter-latex-envs>=1.3.8->jupyter_contrib_nbextensions) (0.7.1)\n",
      "Requirement already satisfied: pyparsing>=2.0.2 in /opt/conda/lib/python3.7/site-packages (from packaging->bleach->nbconvert>=4.2->jupyter_contrib_nbextensions) (2.4.7)\n",
      "Requirement already satisfied: zipp>=0.5 in /opt/conda/lib/python3.7/site-packages (from importlib-metadata; python_version < \"3.8\"->jsonschema!=2.5.0,>=2.4->nbformat->notebook>=4.0->jupyter_contrib_nbextensions) (3.4.0)\n",
      "Requirement already satisfied: jupyter in /opt/conda/lib/python3.7/site-packages (1.0.0)\n",
      "Collecting contrib\n",
      "  Downloading contrib-0.3.0-py3-none-any.whl (16 kB)\n",
      "\u001b[31mERROR: Could not find a version that satisfies the requirement nbextension (from versions: none)\u001b[0m\n",
      "\u001b[31mERROR: No matching distribution found for nbextension\u001b[0m\n",
      "Defaulting to user installation because normal site-packages is not writeable\n",
      "\u001b[31mERROR: Invalid requirement: 'python-markdown/main'\n",
      "Hint: It looks like a path. File 'python-markdown/main' does not exist.\u001b[0m\n"
     ]
    }
   ],
   "source": [
    "!pip install jupyter_contrib_nbextensions\n",
    "!pip install jupyter contrib nbextension install --user\n",
    "!pip install jupyter nbextension enable python-markdown/main"
   ]
  },
  {
   "cell_type": "code",
   "execution_count": 1,
   "metadata": {},
   "outputs": [],
   "source": [
    "#В рамках предыдущих работ\n",
    "import pandas as pd\n",
    "from pymystem3 import Mystem\n",
    "from nltk.stem import SnowballStemmer \n",
    "russian_stemmer = SnowballStemmer('russian')\n",
    "from collections import Counter\n",
    "import numpy as np\n",
    "import copy\n",
    "import warnings\n",
    "warnings.filterwarnings('ignore')\n",
    "from scipy import stats as st\n",
    "import math\n",
    "import seaborn as sns\n",
    "import plotly.express as px\n",
    "import matplotlib.pyplot as plt\n",
    "from sklearn.tree import DecisionTreeRegressor\n",
    "from sklearn.ensemble import RandomForestRegressor\n",
    "from sklearn.linear_model import LinearRegression\n",
    "from sklearn.model_selection import train_test_split\n",
    "from sklearn.metrics import mean_squared_error\n",
    "from sklearn.linear_model import LogisticRegression\n",
    "from sklearn.tree import DecisionTreeClassifier\n",
    "from sklearn.metrics import accuracy_score\n",
    "from sklearn.ensemble import RandomForestClassifier\n",
    "from sklearn.dummy import DummyClassifier\n",
    "from sklearn.preprocessing import OrdinalEncoder\n",
    "from sklearn.preprocessing import StandardScaler\n",
    "pd.options.mode.chained_assignment = None\n",
    "from sklearn.metrics import accuracy_score\n",
    "from sklearn.metrics import confusion_matrix\n",
    "from sklearn.metrics import recall_score\n",
    "from sklearn.metrics import precision_score\n",
    "from sklearn.metrics import f1_score\n",
    "from sklearn.utils import shuffle\n",
    "from sklearn.metrics import precision_recall_curve\n",
    "from sklearn.metrics import roc_auc_score\n",
    "from sklearn.metrics import mean_squared_error\n",
    "from sklearn.metrics import r2_score\n",
    "from sklearn.metrics import mean_absolute_error\n",
    "import itertools\n",
    "\n",
    "#В рамках нового раздела"
   ]
  },
  {
   "cell_type": "markdown",
   "metadata": {},
   "source": [
    "Считываем в DataFrame данные по добывающей компании «ГлавРосГосНефть»."
   ]
  },
  {
   "cell_type": "code",
   "execution_count": 2,
   "metadata": {},
   "outputs": [],
   "source": [
    "data_region_0 = pd.read_csv('/datasets/geo_data_0.csv')\n",
    "data_region_1 = pd.read_csv('/datasets/geo_data_1.csv')\n",
    "data_region_2 = pd.read_csv('/datasets/geo_data_2.csv')"
   ]
  },
  {
   "cell_type": "code",
   "execution_count": 3,
   "metadata": {
    "scrolled": false
   },
   "outputs": [
    {
     "name": "stdout",
     "output_type": "stream",
     "text": [
      "region 0\n"
     ]
    },
    {
     "data": {
      "text/html": [
       "<div>\n",
       "<style scoped>\n",
       "    .dataframe tbody tr th:only-of-type {\n",
       "        vertical-align: middle;\n",
       "    }\n",
       "\n",
       "    .dataframe tbody tr th {\n",
       "        vertical-align: top;\n",
       "    }\n",
       "\n",
       "    .dataframe thead th {\n",
       "        text-align: right;\n",
       "    }\n",
       "</style>\n",
       "<table border=\"1\" class=\"dataframe\">\n",
       "  <thead>\n",
       "    <tr style=\"text-align: right;\">\n",
       "      <th></th>\n",
       "      <th>id</th>\n",
       "      <th>f0</th>\n",
       "      <th>f1</th>\n",
       "      <th>f2</th>\n",
       "      <th>product</th>\n",
       "    </tr>\n",
       "  </thead>\n",
       "  <tbody>\n",
       "    <tr>\n",
       "      <td>0</td>\n",
       "      <td>txEyH</td>\n",
       "      <td>0.705745</td>\n",
       "      <td>-0.497823</td>\n",
       "      <td>1.221170</td>\n",
       "      <td>105.280062</td>\n",
       "    </tr>\n",
       "    <tr>\n",
       "      <td>1</td>\n",
       "      <td>2acmU</td>\n",
       "      <td>1.334711</td>\n",
       "      <td>-0.340164</td>\n",
       "      <td>4.365080</td>\n",
       "      <td>73.037750</td>\n",
       "    </tr>\n",
       "    <tr>\n",
       "      <td>2</td>\n",
       "      <td>409Wp</td>\n",
       "      <td>1.022732</td>\n",
       "      <td>0.151990</td>\n",
       "      <td>1.419926</td>\n",
       "      <td>85.265647</td>\n",
       "    </tr>\n",
       "    <tr>\n",
       "      <td>3</td>\n",
       "      <td>iJLyR</td>\n",
       "      <td>-0.032172</td>\n",
       "      <td>0.139033</td>\n",
       "      <td>2.978566</td>\n",
       "      <td>168.620776</td>\n",
       "    </tr>\n",
       "    <tr>\n",
       "      <td>4</td>\n",
       "      <td>Xdl7t</td>\n",
       "      <td>1.988431</td>\n",
       "      <td>0.155413</td>\n",
       "      <td>4.751769</td>\n",
       "      <td>154.036647</td>\n",
       "    </tr>\n",
       "  </tbody>\n",
       "</table>\n",
       "</div>"
      ],
      "text/plain": [
       "      id        f0        f1        f2     product\n",
       "0  txEyH  0.705745 -0.497823  1.221170  105.280062\n",
       "1  2acmU  1.334711 -0.340164  4.365080   73.037750\n",
       "2  409Wp  1.022732  0.151990  1.419926   85.265647\n",
       "3  iJLyR -0.032172  0.139033  2.978566  168.620776\n",
       "4  Xdl7t  1.988431  0.155413  4.751769  154.036647"
      ]
     },
     "metadata": {},
     "output_type": "display_data"
    },
    {
     "data": {
      "text/html": [
       "<div>\n",
       "<style scoped>\n",
       "    .dataframe tbody tr th:only-of-type {\n",
       "        vertical-align: middle;\n",
       "    }\n",
       "\n",
       "    .dataframe tbody tr th {\n",
       "        vertical-align: top;\n",
       "    }\n",
       "\n",
       "    .dataframe thead th {\n",
       "        text-align: right;\n",
       "    }\n",
       "</style>\n",
       "<table border=\"1\" class=\"dataframe\">\n",
       "  <thead>\n",
       "    <tr style=\"text-align: right;\">\n",
       "      <th></th>\n",
       "      <th>id</th>\n",
       "      <th>f0</th>\n",
       "      <th>f1</th>\n",
       "      <th>f2</th>\n",
       "      <th>product</th>\n",
       "    </tr>\n",
       "  </thead>\n",
       "  <tbody>\n",
       "    <tr>\n",
       "      <td>22191</td>\n",
       "      <td>5jdNh</td>\n",
       "      <td>1.057403</td>\n",
       "      <td>0.296957</td>\n",
       "      <td>0.785849</td>\n",
       "      <td>55.766655</td>\n",
       "    </tr>\n",
       "  </tbody>\n",
       "</table>\n",
       "</div>"
      ],
      "text/plain": [
       "          id        f0        f1        f2    product\n",
       "22191  5jdNh  1.057403  0.296957  0.785849  55.766655"
      ]
     },
     "metadata": {},
     "output_type": "display_data"
    },
    {
     "data": {
      "text/html": [
       "<div>\n",
       "<style scoped>\n",
       "    .dataframe tbody tr th:only-of-type {\n",
       "        vertical-align: middle;\n",
       "    }\n",
       "\n",
       "    .dataframe tbody tr th {\n",
       "        vertical-align: top;\n",
       "    }\n",
       "\n",
       "    .dataframe thead th {\n",
       "        text-align: right;\n",
       "    }\n",
       "</style>\n",
       "<table border=\"1\" class=\"dataframe\">\n",
       "  <thead>\n",
       "    <tr style=\"text-align: right;\">\n",
       "      <th></th>\n",
       "      <th>id</th>\n",
       "      <th>f0</th>\n",
       "      <th>f1</th>\n",
       "      <th>f2</th>\n",
       "      <th>product</th>\n",
       "    </tr>\n",
       "  </thead>\n",
       "  <tbody>\n",
       "    <tr>\n",
       "      <td>99995</td>\n",
       "      <td>DLsed</td>\n",
       "      <td>0.971957</td>\n",
       "      <td>0.370953</td>\n",
       "      <td>6.075346</td>\n",
       "      <td>110.744026</td>\n",
       "    </tr>\n",
       "    <tr>\n",
       "      <td>99996</td>\n",
       "      <td>QKivN</td>\n",
       "      <td>1.392429</td>\n",
       "      <td>-0.382606</td>\n",
       "      <td>1.273912</td>\n",
       "      <td>122.346843</td>\n",
       "    </tr>\n",
       "    <tr>\n",
       "      <td>99997</td>\n",
       "      <td>3rnvd</td>\n",
       "      <td>1.029585</td>\n",
       "      <td>0.018787</td>\n",
       "      <td>-1.348308</td>\n",
       "      <td>64.375443</td>\n",
       "    </tr>\n",
       "    <tr>\n",
       "      <td>99998</td>\n",
       "      <td>7kl59</td>\n",
       "      <td>0.998163</td>\n",
       "      <td>-0.528582</td>\n",
       "      <td>1.583869</td>\n",
       "      <td>74.040764</td>\n",
       "    </tr>\n",
       "    <tr>\n",
       "      <td>99999</td>\n",
       "      <td>1CWhH</td>\n",
       "      <td>1.764754</td>\n",
       "      <td>-0.266417</td>\n",
       "      <td>5.722849</td>\n",
       "      <td>149.633246</td>\n",
       "    </tr>\n",
       "  </tbody>\n",
       "</table>\n",
       "</div>"
      ],
      "text/plain": [
       "          id        f0        f1        f2     product\n",
       "99995  DLsed  0.971957  0.370953  6.075346  110.744026\n",
       "99996  QKivN  1.392429 -0.382606  1.273912  122.346843\n",
       "99997  3rnvd  1.029585  0.018787 -1.348308   64.375443\n",
       "99998  7kl59  0.998163 -0.528582  1.583869   74.040764\n",
       "99999  1CWhH  1.764754 -0.266417  5.722849  149.633246"
      ]
     },
     "metadata": {},
     "output_type": "display_data"
    },
    {
     "name": "stdout",
     "output_type": "stream",
     "text": [
      "<class 'pandas.core.frame.DataFrame'>\n",
      "RangeIndex: 100000 entries, 0 to 99999\n",
      "Data columns (total 5 columns):\n",
      "id         100000 non-null object\n",
      "f0         100000 non-null float64\n",
      "f1         100000 non-null float64\n",
      "f2         100000 non-null float64\n",
      "product    100000 non-null float64\n",
      "dtypes: float64(4), object(1)\n",
      "memory usage: 3.8+ MB\n",
      "\n",
      " ==================================================================================================== \n",
      "\n",
      "region 1\n"
     ]
    },
    {
     "data": {
      "text/html": [
       "<div>\n",
       "<style scoped>\n",
       "    .dataframe tbody tr th:only-of-type {\n",
       "        vertical-align: middle;\n",
       "    }\n",
       "\n",
       "    .dataframe tbody tr th {\n",
       "        vertical-align: top;\n",
       "    }\n",
       "\n",
       "    .dataframe thead th {\n",
       "        text-align: right;\n",
       "    }\n",
       "</style>\n",
       "<table border=\"1\" class=\"dataframe\">\n",
       "  <thead>\n",
       "    <tr style=\"text-align: right;\">\n",
       "      <th></th>\n",
       "      <th>id</th>\n",
       "      <th>f0</th>\n",
       "      <th>f1</th>\n",
       "      <th>f2</th>\n",
       "      <th>product</th>\n",
       "    </tr>\n",
       "  </thead>\n",
       "  <tbody>\n",
       "    <tr>\n",
       "      <td>0</td>\n",
       "      <td>kBEdx</td>\n",
       "      <td>-15.001348</td>\n",
       "      <td>-8.276000</td>\n",
       "      <td>-0.005876</td>\n",
       "      <td>3.179103</td>\n",
       "    </tr>\n",
       "    <tr>\n",
       "      <td>1</td>\n",
       "      <td>62mP7</td>\n",
       "      <td>14.272088</td>\n",
       "      <td>-3.475083</td>\n",
       "      <td>0.999183</td>\n",
       "      <td>26.953261</td>\n",
       "    </tr>\n",
       "    <tr>\n",
       "      <td>2</td>\n",
       "      <td>vyE1P</td>\n",
       "      <td>6.263187</td>\n",
       "      <td>-5.948386</td>\n",
       "      <td>5.001160</td>\n",
       "      <td>134.766305</td>\n",
       "    </tr>\n",
       "    <tr>\n",
       "      <td>3</td>\n",
       "      <td>KcrkZ</td>\n",
       "      <td>-13.081196</td>\n",
       "      <td>-11.506057</td>\n",
       "      <td>4.999415</td>\n",
       "      <td>137.945408</td>\n",
       "    </tr>\n",
       "    <tr>\n",
       "      <td>4</td>\n",
       "      <td>AHL4O</td>\n",
       "      <td>12.702195</td>\n",
       "      <td>-8.147433</td>\n",
       "      <td>5.004363</td>\n",
       "      <td>134.766305</td>\n",
       "    </tr>\n",
       "  </tbody>\n",
       "</table>\n",
       "</div>"
      ],
      "text/plain": [
       "      id         f0         f1        f2     product\n",
       "0  kBEdx -15.001348  -8.276000 -0.005876    3.179103\n",
       "1  62mP7  14.272088  -3.475083  0.999183   26.953261\n",
       "2  vyE1P   6.263187  -5.948386  5.001160  134.766305\n",
       "3  KcrkZ -13.081196 -11.506057  4.999415  137.945408\n",
       "4  AHL4O  12.702195  -8.147433  5.004363  134.766305"
      ]
     },
     "metadata": {},
     "output_type": "display_data"
    },
    {
     "data": {
      "text/html": [
       "<div>\n",
       "<style scoped>\n",
       "    .dataframe tbody tr th:only-of-type {\n",
       "        vertical-align: middle;\n",
       "    }\n",
       "\n",
       "    .dataframe tbody tr th {\n",
       "        vertical-align: top;\n",
       "    }\n",
       "\n",
       "    .dataframe thead th {\n",
       "        text-align: right;\n",
       "    }\n",
       "</style>\n",
       "<table border=\"1\" class=\"dataframe\">\n",
       "  <thead>\n",
       "    <tr style=\"text-align: right;\">\n",
       "      <th></th>\n",
       "      <th>id</th>\n",
       "      <th>f0</th>\n",
       "      <th>f1</th>\n",
       "      <th>f2</th>\n",
       "      <th>product</th>\n",
       "    </tr>\n",
       "  </thead>\n",
       "  <tbody>\n",
       "    <tr>\n",
       "      <td>32273</td>\n",
       "      <td>SyEXP</td>\n",
       "      <td>3.93227</td>\n",
       "      <td>0.215154</td>\n",
       "      <td>-0.004799</td>\n",
       "      <td>0.0</td>\n",
       "    </tr>\n",
       "  </tbody>\n",
       "</table>\n",
       "</div>"
      ],
      "text/plain": [
       "          id       f0        f1        f2  product\n",
       "32273  SyEXP  3.93227  0.215154 -0.004799      0.0"
      ]
     },
     "metadata": {},
     "output_type": "display_data"
    },
    {
     "data": {
      "text/html": [
       "<div>\n",
       "<style scoped>\n",
       "    .dataframe tbody tr th:only-of-type {\n",
       "        vertical-align: middle;\n",
       "    }\n",
       "\n",
       "    .dataframe tbody tr th {\n",
       "        vertical-align: top;\n",
       "    }\n",
       "\n",
       "    .dataframe thead th {\n",
       "        text-align: right;\n",
       "    }\n",
       "</style>\n",
       "<table border=\"1\" class=\"dataframe\">\n",
       "  <thead>\n",
       "    <tr style=\"text-align: right;\">\n",
       "      <th></th>\n",
       "      <th>id</th>\n",
       "      <th>f0</th>\n",
       "      <th>f1</th>\n",
       "      <th>f2</th>\n",
       "      <th>product</th>\n",
       "    </tr>\n",
       "  </thead>\n",
       "  <tbody>\n",
       "    <tr>\n",
       "      <td>99995</td>\n",
       "      <td>QywKC</td>\n",
       "      <td>9.535637</td>\n",
       "      <td>-6.878139</td>\n",
       "      <td>1.998296</td>\n",
       "      <td>53.906522</td>\n",
       "    </tr>\n",
       "    <tr>\n",
       "      <td>99996</td>\n",
       "      <td>ptvty</td>\n",
       "      <td>-10.160631</td>\n",
       "      <td>-12.558096</td>\n",
       "      <td>5.005581</td>\n",
       "      <td>137.945408</td>\n",
       "    </tr>\n",
       "    <tr>\n",
       "      <td>99997</td>\n",
       "      <td>09gWa</td>\n",
       "      <td>-7.378891</td>\n",
       "      <td>-3.084104</td>\n",
       "      <td>4.998651</td>\n",
       "      <td>137.945408</td>\n",
       "    </tr>\n",
       "    <tr>\n",
       "      <td>99998</td>\n",
       "      <td>rqwUm</td>\n",
       "      <td>0.665714</td>\n",
       "      <td>-6.152593</td>\n",
       "      <td>1.000146</td>\n",
       "      <td>30.132364</td>\n",
       "    </tr>\n",
       "    <tr>\n",
       "      <td>99999</td>\n",
       "      <td>relB0</td>\n",
       "      <td>-3.426139</td>\n",
       "      <td>-7.794274</td>\n",
       "      <td>-0.003299</td>\n",
       "      <td>3.179103</td>\n",
       "    </tr>\n",
       "  </tbody>\n",
       "</table>\n",
       "</div>"
      ],
      "text/plain": [
       "          id         f0         f1        f2     product\n",
       "99995  QywKC   9.535637  -6.878139  1.998296   53.906522\n",
       "99996  ptvty -10.160631 -12.558096  5.005581  137.945408\n",
       "99997  09gWa  -7.378891  -3.084104  4.998651  137.945408\n",
       "99998  rqwUm   0.665714  -6.152593  1.000146   30.132364\n",
       "99999  relB0  -3.426139  -7.794274 -0.003299    3.179103"
      ]
     },
     "metadata": {},
     "output_type": "display_data"
    },
    {
     "name": "stdout",
     "output_type": "stream",
     "text": [
      "<class 'pandas.core.frame.DataFrame'>\n",
      "RangeIndex: 100000 entries, 0 to 99999\n",
      "Data columns (total 5 columns):\n",
      "id         100000 non-null object\n",
      "f0         100000 non-null float64\n",
      "f1         100000 non-null float64\n",
      "f2         100000 non-null float64\n",
      "product    100000 non-null float64\n",
      "dtypes: float64(4), object(1)\n",
      "memory usage: 3.8+ MB\n",
      "\n",
      " ==================================================================================================== \n",
      "\n",
      "region 2\n"
     ]
    },
    {
     "data": {
      "text/html": [
       "<div>\n",
       "<style scoped>\n",
       "    .dataframe tbody tr th:only-of-type {\n",
       "        vertical-align: middle;\n",
       "    }\n",
       "\n",
       "    .dataframe tbody tr th {\n",
       "        vertical-align: top;\n",
       "    }\n",
       "\n",
       "    .dataframe thead th {\n",
       "        text-align: right;\n",
       "    }\n",
       "</style>\n",
       "<table border=\"1\" class=\"dataframe\">\n",
       "  <thead>\n",
       "    <tr style=\"text-align: right;\">\n",
       "      <th></th>\n",
       "      <th>id</th>\n",
       "      <th>f0</th>\n",
       "      <th>f1</th>\n",
       "      <th>f2</th>\n",
       "      <th>product</th>\n",
       "    </tr>\n",
       "  </thead>\n",
       "  <tbody>\n",
       "    <tr>\n",
       "      <td>0</td>\n",
       "      <td>fwXo0</td>\n",
       "      <td>-1.146987</td>\n",
       "      <td>0.963328</td>\n",
       "      <td>-0.828965</td>\n",
       "      <td>27.758673</td>\n",
       "    </tr>\n",
       "    <tr>\n",
       "      <td>1</td>\n",
       "      <td>WJtFt</td>\n",
       "      <td>0.262778</td>\n",
       "      <td>0.269839</td>\n",
       "      <td>-2.530187</td>\n",
       "      <td>56.069697</td>\n",
       "    </tr>\n",
       "    <tr>\n",
       "      <td>2</td>\n",
       "      <td>ovLUW</td>\n",
       "      <td>0.194587</td>\n",
       "      <td>0.289035</td>\n",
       "      <td>-5.586433</td>\n",
       "      <td>62.871910</td>\n",
       "    </tr>\n",
       "    <tr>\n",
       "      <td>3</td>\n",
       "      <td>q6cA6</td>\n",
       "      <td>2.236060</td>\n",
       "      <td>-0.553760</td>\n",
       "      <td>0.930038</td>\n",
       "      <td>114.572842</td>\n",
       "    </tr>\n",
       "    <tr>\n",
       "      <td>4</td>\n",
       "      <td>WPMUX</td>\n",
       "      <td>-0.515993</td>\n",
       "      <td>1.716266</td>\n",
       "      <td>5.899011</td>\n",
       "      <td>149.600746</td>\n",
       "    </tr>\n",
       "  </tbody>\n",
       "</table>\n",
       "</div>"
      ],
      "text/plain": [
       "      id        f0        f1        f2     product\n",
       "0  fwXo0 -1.146987  0.963328 -0.828965   27.758673\n",
       "1  WJtFt  0.262778  0.269839 -2.530187   56.069697\n",
       "2  ovLUW  0.194587  0.289035 -5.586433   62.871910\n",
       "3  q6cA6  2.236060 -0.553760  0.930038  114.572842\n",
       "4  WPMUX -0.515993  1.716266  5.899011  149.600746"
      ]
     },
     "metadata": {},
     "output_type": "display_data"
    },
    {
     "data": {
      "text/html": [
       "<div>\n",
       "<style scoped>\n",
       "    .dataframe tbody tr th:only-of-type {\n",
       "        vertical-align: middle;\n",
       "    }\n",
       "\n",
       "    .dataframe tbody tr th {\n",
       "        vertical-align: top;\n",
       "    }\n",
       "\n",
       "    .dataframe thead th {\n",
       "        text-align: right;\n",
       "    }\n",
       "</style>\n",
       "<table border=\"1\" class=\"dataframe\">\n",
       "  <thead>\n",
       "    <tr style=\"text-align: right;\">\n",
       "      <th></th>\n",
       "      <th>id</th>\n",
       "      <th>f0</th>\n",
       "      <th>f1</th>\n",
       "      <th>f2</th>\n",
       "      <th>product</th>\n",
       "    </tr>\n",
       "  </thead>\n",
       "  <tbody>\n",
       "    <tr>\n",
       "      <td>16234</td>\n",
       "      <td>J3IEw</td>\n",
       "      <td>1.659445</td>\n",
       "      <td>-1.520376</td>\n",
       "      <td>-2.287513</td>\n",
       "      <td>141.072806</td>\n",
       "    </tr>\n",
       "  </tbody>\n",
       "</table>\n",
       "</div>"
      ],
      "text/plain": [
       "          id        f0        f1        f2     product\n",
       "16234  J3IEw  1.659445 -1.520376 -2.287513  141.072806"
      ]
     },
     "metadata": {},
     "output_type": "display_data"
    },
    {
     "data": {
      "text/html": [
       "<div>\n",
       "<style scoped>\n",
       "    .dataframe tbody tr th:only-of-type {\n",
       "        vertical-align: middle;\n",
       "    }\n",
       "\n",
       "    .dataframe tbody tr th {\n",
       "        vertical-align: top;\n",
       "    }\n",
       "\n",
       "    .dataframe thead th {\n",
       "        text-align: right;\n",
       "    }\n",
       "</style>\n",
       "<table border=\"1\" class=\"dataframe\">\n",
       "  <thead>\n",
       "    <tr style=\"text-align: right;\">\n",
       "      <th></th>\n",
       "      <th>id</th>\n",
       "      <th>f0</th>\n",
       "      <th>f1</th>\n",
       "      <th>f2</th>\n",
       "      <th>product</th>\n",
       "    </tr>\n",
       "  </thead>\n",
       "  <tbody>\n",
       "    <tr>\n",
       "      <td>99995</td>\n",
       "      <td>4GxBu</td>\n",
       "      <td>-1.777037</td>\n",
       "      <td>1.125220</td>\n",
       "      <td>6.263374</td>\n",
       "      <td>172.327046</td>\n",
       "    </tr>\n",
       "    <tr>\n",
       "      <td>99996</td>\n",
       "      <td>YKFjq</td>\n",
       "      <td>-1.261523</td>\n",
       "      <td>-0.894828</td>\n",
       "      <td>2.524545</td>\n",
       "      <td>138.748846</td>\n",
       "    </tr>\n",
       "    <tr>\n",
       "      <td>99997</td>\n",
       "      <td>tKPY3</td>\n",
       "      <td>-1.199934</td>\n",
       "      <td>-2.957637</td>\n",
       "      <td>5.219411</td>\n",
       "      <td>157.080080</td>\n",
       "    </tr>\n",
       "    <tr>\n",
       "      <td>99998</td>\n",
       "      <td>nmxp2</td>\n",
       "      <td>-2.419896</td>\n",
       "      <td>2.417221</td>\n",
       "      <td>-5.548444</td>\n",
       "      <td>51.795253</td>\n",
       "    </tr>\n",
       "    <tr>\n",
       "      <td>99999</td>\n",
       "      <td>V9kWn</td>\n",
       "      <td>-2.551421</td>\n",
       "      <td>-2.025625</td>\n",
       "      <td>6.090891</td>\n",
       "      <td>102.775767</td>\n",
       "    </tr>\n",
       "  </tbody>\n",
       "</table>\n",
       "</div>"
      ],
      "text/plain": [
       "          id        f0        f1        f2     product\n",
       "99995  4GxBu -1.777037  1.125220  6.263374  172.327046\n",
       "99996  YKFjq -1.261523 -0.894828  2.524545  138.748846\n",
       "99997  tKPY3 -1.199934 -2.957637  5.219411  157.080080\n",
       "99998  nmxp2 -2.419896  2.417221 -5.548444   51.795253\n",
       "99999  V9kWn -2.551421 -2.025625  6.090891  102.775767"
      ]
     },
     "metadata": {},
     "output_type": "display_data"
    },
    {
     "name": "stdout",
     "output_type": "stream",
     "text": [
      "<class 'pandas.core.frame.DataFrame'>\n",
      "RangeIndex: 100000 entries, 0 to 99999\n",
      "Data columns (total 5 columns):\n",
      "id         100000 non-null object\n",
      "f0         100000 non-null float64\n",
      "f1         100000 non-null float64\n",
      "f2         100000 non-null float64\n",
      "product    100000 non-null float64\n",
      "dtypes: float64(4), object(1)\n",
      "memory usage: 3.8+ MB\n",
      "\n",
      " ==================================================================================================== \n",
      "\n"
     ]
    }
   ],
   "source": [
    "data_list=[]\n",
    "for i in range(3):\n",
    "    print('region', i)\n",
    "    exec('data_'+str(i)+ \"=pd.read_csv('/datasets/geo_data_\"+str(i)+\".csv')\")\n",
    "    exec(f'display(data_{i}.head())')\n",
    "    exec(f'display(data_{i}.sample())')\n",
    "    exec(f'display(data_{i}.tail())')\n",
    "    exec(f'data_{i}.info()')\n",
    "    exec(f'data_list.append(data_{i})')\n",
    "    print('\\n', '====='*20, '\\n')"
   ]
  },
  {
   "cell_type": "code",
   "execution_count": 4,
   "metadata": {},
   "outputs": [
    {
     "data": {
      "image/png": "[encoded data removed]",
      "text/plain": [
       "<Figure size 1440x1080 with 12 Axes>"
      ]
     },
     "metadata": {
      "needs_background": "light"
     },
     "output_type": "display_data"
    }
   ],
   "source": [
    "fig,ax = plt.subplots(3,4,figsize = (20,15))\n",
    "\n",
    "all_frames = [\"Region_0\",\"Region_1\",\"Region_2\"]\n",
    "num_columns = data_region_0.columns[1:]\n",
    "num_columns_with_columns = zip(data_region_0.columns[1:],range(4))\n",
    "all_frames_with_rows = zip([data_region_0,data_region_1,data_region_2],range(3))\n",
    "# Построим графики\n",
    "for column in list(itertools.product(all_frames_with_rows,num_columns_with_columns)):\n",
    "    ax[column[0][1]][column[1][1]].boxplot(column[0][0][column[1][0]])\n",
    "# Добавим название фрейма изображаемого на графике\n",
    "for row in range(3):\n",
    "    ax[row][0].set_ylabel(all_frames[row])\n",
    "# Добавим название столбца изображаемого на графике\n",
    "for column in range(4):\n",
    "    ax[0][column].set_title(num_columns[column])"
   ]
  },
  {
   "cell_type": "markdown",
   "metadata": {},
   "source": [
    "Как позазывают графики, в столбцах f2 в регионе 0 и 2, f1 в регионе 1 и 2 и в столбце f0 в регионе 2 наблюдается огромное значение аутлайнеров. В этой связи следовало бы посмотреть количество аутлайнеров. "
   ]
  },
  {
   "cell_type": "code",
   "execution_count": 5,
   "metadata": {},
   "outputs": [
    {
     "name": "stdout",
     "output_type": "stream",
     "text": [
      "<class 'pandas.core.frame.DataFrame'>\n",
      "RangeIndex: 100000 entries, 0 to 99999\n",
      "Data columns (total 5 columns):\n",
      "id         100000 non-null object\n",
      "f0         100000 non-null float64\n",
      "f1         100000 non-null float64\n",
      "f2         100000 non-null float64\n",
      "product    100000 non-null float64\n",
      "dtypes: float64(4), object(1)\n",
      "memory usage: 3.8+ MB\n"
     ]
    }
   ],
   "source": [
    "data_region_0.info()"
   ]
  },
  {
   "cell_type": "code",
   "execution_count": 6,
   "metadata": {},
   "outputs": [
    {
     "name": "stdout",
     "output_type": "stream",
     "text": [
      "<class 'pandas.core.frame.DataFrame'>\n",
      "RangeIndex: 100000 entries, 0 to 99999\n",
      "Data columns (total 5 columns):\n",
      "id         100000 non-null object\n",
      "f0         100000 non-null float64\n",
      "f1         100000 non-null float64\n",
      "f2         100000 non-null float64\n",
      "product    100000 non-null float64\n",
      "dtypes: float64(4), object(1)\n",
      "memory usage: 3.8+ MB\n"
     ]
    }
   ],
   "source": [
    "data_region_1.info()"
   ]
  },
  {
   "cell_type": "code",
   "execution_count": 7,
   "metadata": {},
   "outputs": [
    {
     "name": "stdout",
     "output_type": "stream",
     "text": [
      "<class 'pandas.core.frame.DataFrame'>\n",
      "RangeIndex: 100000 entries, 0 to 99999\n",
      "Data columns (total 5 columns):\n",
      "id         100000 non-null object\n",
      "f0         100000 non-null float64\n",
      "f1         100000 non-null float64\n",
      "f2         100000 non-null float64\n",
      "product    100000 non-null float64\n",
      "dtypes: float64(4), object(1)\n",
      "memory usage: 3.8+ MB\n"
     ]
    }
   ],
   "source": [
    "data_region_2.info()"
   ]
  },
  {
   "cell_type": "code",
   "execution_count": 8,
   "metadata": {},
   "outputs": [
    {
     "name": "stdout",
     "output_type": "stream",
     "text": [
      "Region 0\n"
     ]
    },
    {
     "data": {
      "image/png": "[encoded data removed]",
      "text/plain": [
       "<Figure size 432x288 with 2 Axes>"
      ]
     },
     "metadata": {
      "needs_background": "light"
     },
     "output_type": "display_data"
    }
   ],
   "source": [
    "print('Region 0')\n",
    "corr_matrix = data_region_0.drop(['id'], axis=1).corr()\n",
    "sns.heatmap(corr_matrix);"
   ]
  },
  {
   "cell_type": "code",
   "execution_count": 9,
   "metadata": {},
   "outputs": [
    {
     "name": "stdout",
     "output_type": "stream",
     "text": [
      "Region 1\n"
     ]
    },
    {
     "data": {
      "image/png": "[encoded data removed]",
      "text/plain": [
       "<Figure size 432x288 with 2 Axes>"
      ]
     },
     "metadata": {
      "needs_background": "light"
     },
     "output_type": "display_data"
    }
   ],
   "source": [
    "print('Region 1')\n",
    "corr_matrix = data_region_1.drop(['id'], axis=1).corr()\n",
    "sns.heatmap(corr_matrix);"
   ]
  },
  {
   "cell_type": "code",
   "execution_count": 10,
   "metadata": {},
   "outputs": [
    {
     "name": "stdout",
     "output_type": "stream",
     "text": [
      "Region 2\n"
     ]
    },
    {
     "data": {
      "image/png": "[encoded data removed]",
      "text/plain": [
       "<Figure size 432x288 with 2 Axes>"
      ]
     },
     "metadata": {
      "needs_background": "light"
     },
     "output_type": "display_data"
    }
   ],
   "source": [
    "print('Region 2')\n",
    "corr_matrix = data_region_2.drop(['id'], axis=1).corr()\n",
    "sns.heatmap(corr_matrix);"
   ]
  },
  {
   "cell_type": "code",
   "execution_count": 11,
   "metadata": {},
   "outputs": [
    {
     "data": {
      "image/png": "[encoded data removed]",
      "text/plain": [
       "<Figure size 1440x864 with 4 Axes>"
      ]
     },
     "metadata": {
      "needs_background": "light"
     },
     "output_type": "display_data"
    }
   ],
   "source": [
    "features = list(set(data_region_0.columns) - set(['id']))\n",
    "\n",
    "data_region_0[features].hist(figsize=(20,12));"
   ]
  },
  {
   "cell_type": "code",
   "execution_count": 12,
   "metadata": {},
   "outputs": [
    {
     "data": {
      "image/png": "[encoded data removed]",
      "text/plain": [
       "<Figure size 1440x864 with 4 Axes>"
      ]
     },
     "metadata": {
      "needs_background": "light"
     },
     "output_type": "display_data"
    }
   ],
   "source": [
    "features = list(set(data_region_1.columns) - set(['id']))\n",
    "\n",
    "data_region_1[features].hist(figsize=(20,12));"
   ]
  },
  {
   "cell_type": "code",
   "execution_count": 13,
   "metadata": {},
   "outputs": [
    {
     "data": {
      "image/png": "[encoded data removed]",
      "text/plain": [
       "<Figure size 1440x864 with 4 Axes>"
      ]
     },
     "metadata": {
      "needs_background": "light"
     },
     "output_type": "display_data"
    }
   ],
   "source": [
    "features = list(set(data_region_2.columns) - set(['id']))\n",
    "\n",
    "data_region_2[features].hist(figsize=(20,12));"
   ]
  },
  {
   "cell_type": "markdown",
   "metadata": {},
   "source": [
    "На последок исключим столбец ID поскольку для нас никакой ценности данный столбец "
   ]
  },
  {
   "cell_type": "code",
   "execution_count": 14,
   "metadata": {},
   "outputs": [],
   "source": [
    "data_region_0 = data_region_0.drop(['id'], axis=1)\n",
    "data_region_1 = data_region_1.drop(['id'], axis=1)\n",
    "data_region_2 = data_region_2.drop(['id'], axis=1)"
   ]
  },
  {
   "cell_type": "markdown",
   "metadata": {},
   "source": [
    "### Вывод"
   ]
  },
  {
   "cell_type": "markdown",
   "metadata": {},
   "source": [
    "В целом значительных ошибок, пропусков и т.д выявлено не было. Были исключены значения которые в дальнейшем нам бы мешали в нашем исследований. Также, корреляция наблюдается не значительная, в большинства случаев корреляция отсутствует. Также наблюдается не здоровое распределение гистограм у региона №1"
   ]
  },
  {
   "cell_type": "markdown",
   "metadata": {},
   "source": [
    "## Обучение и проверка модели"
   ]
  },
  {
   "cell_type": "markdown",
   "metadata": {},
   "source": [
    "### Разбиение данных на выборки"
   ]
  },
  {
   "cell_type": "markdown",
   "metadata": {},
   "source": [
    "Для максимальной оптимизации мы постраемся напишем необходимую функцию разбиение на выборки"
   ]
  },
  {
   "cell_type": "code",
   "execution_count": 15,
   "metadata": {},
   "outputs": [],
   "source": [
    "#фнукция разбиение данные на обучаемую и валидационную выборки\n",
    "def test_split(data, target):\n",
    "    features = data.drop([target] , axis=1)\n",
    "    target = data[target]\n",
    "\n",
    "    features_train, features_valid, target_train, target_valid = train_test_split(\n",
    "    features, target, test_size=0.25, random_state=12345)\n",
    "    \n",
    "    return features_train, features_valid, target_train, target_valid"
   ]
  },
  {
   "cell_type": "code",
   "execution_count": 16,
   "metadata": {},
   "outputs": [],
   "source": [
    "features_train_region_0, features_valid_region_0, target_train_region_0, target_valid_region_0 = test_split(data_region_0, 'product')"
   ]
  },
  {
   "cell_type": "code",
   "execution_count": 17,
   "metadata": {},
   "outputs": [
    {
     "name": "stdout",
     "output_type": "stream",
     "text": [
      "(75000, 3)\n",
      "(25000, 3)\n",
      "(75000,)\n",
      "(25000,)\n"
     ]
    }
   ],
   "source": [
    "print(features_train_region_0.shape)\n",
    "print(features_valid_region_0.shape)\n",
    "\n",
    "\n",
    "print(target_train_region_0.shape)\n",
    "print(target_valid_region_0.shape)"
   ]
  },
  {
   "cell_type": "code",
   "execution_count": 18,
   "metadata": {},
   "outputs": [
    {
     "name": "stdout",
     "output_type": "stream",
     "text": [
      "(75000, 3)\n",
      "(25000, 3)\n",
      "(75000,)\n",
      "(25000,)\n"
     ]
    }
   ],
   "source": [
    "features_train_region_1, features_valid_region_1, target_train_region_1, target_valid_region_1 = test_split(data_region_1, 'product')\n",
    "\n",
    "print(features_train_region_1.shape)\n",
    "print(features_valid_region_1.shape)\n",
    "\n",
    "\n",
    "print(target_train_region_1.shape)\n",
    "print(target_valid_region_1.shape)"
   ]
  },
  {
   "cell_type": "code",
   "execution_count": 19,
   "metadata": {},
   "outputs": [
    {
     "name": "stdout",
     "output_type": "stream",
     "text": [
      "(75000, 3)\n",
      "(25000, 3)\n",
      "(75000,)\n",
      "(25000,)\n"
     ]
    }
   ],
   "source": [
    "features_train_region_2, features_valid_region_2, target_train_region_2, target_valid_region_2 = test_split(data_region_2, 'product')\n",
    "\n",
    "print(features_train_region_2.shape)\n",
    "print(features_valid_region_2.shape)\n",
    "\n",
    "\n",
    "print(target_train_region_2.shape)\n",
    "print(target_valid_region_2.shape)"
   ]
  },
  {
   "cell_type": "markdown",
   "metadata": {},
   "source": [
    "### Строим линейнную регрессию"
   ]
  },
  {
   "cell_type": "code",
   "execution_count": 20,
   "metadata": {},
   "outputs": [],
   "source": [
    "model = LinearRegression()"
   ]
  },
  {
   "cell_type": "code",
   "execution_count": 21,
   "metadata": {},
   "outputs": [],
   "source": [
    "def reg_model(features_train, target_train, features_valid, target_valid):\n",
    "    model.fit(features_train, target_train)\n",
    "    predicted_target = model.predict(features_valid)\n",
    "    rmse = mean_squared_error(target_valid, predicted_target)**0.5\n",
    "    \n",
    "    return rmse"
   ]
  },
  {
   "cell_type": "code",
   "execution_count": 22,
   "metadata": {},
   "outputs": [],
   "source": [
    "rsme_reg_0 = reg_model(features_train_region_0, target_train_region_0, features_valid_region_0, target_valid_region_0)    \n",
    "rsme_reg_1 = reg_model(features_train_region_1, target_train_region_1, features_valid_region_1, target_valid_region_1)    \n",
    "rsme_reg_2 = reg_model(features_train_region_2, target_train_region_2, features_valid_region_2, target_valid_region_2)    "
   ]
  },
  {
   "cell_type": "code",
   "execution_count": 23,
   "metadata": {},
   "outputs": [
    {
     "name": "stdout",
     "output_type": "stream",
     "text": [
      "--------------------------------\n",
      "Регион 0\n",
      "RMSE: 37.5794217150813\n",
      "--------------------------------\n",
      "Регион 1\n",
      "RMSE: 0.893099286775616\n",
      "--------------------------------\n",
      "Регион 2\n",
      "RMSE: 40.02970873393434\n",
      "--------------------------------\n"
     ]
    }
   ],
   "source": [
    "print('--------------------------------')\n",
    "print('Регион 0')\n",
    "print('RMSE:', rsme_reg_0)\n",
    "print('--------------------------------')\n",
    "print('Регион 1')\n",
    "print('RMSE:', rsme_reg_1)\n",
    "print('--------------------------------')\n",
    "print('Регион 2')\n",
    "print('RMSE:', rsme_reg_2)\n",
    "print('--------------------------------')"
   ]
  },
  {
   "cell_type": "markdown",
   "metadata": {},
   "source": [
    "Судя по всему лучшие результаты по RSME имеет регион №2"
   ]
  },
  {
   "cell_type": "code",
   "execution_count": 24,
   "metadata": {},
   "outputs": [],
   "source": [
    "#Напечатайте на экране средний запас предсказанного сырья и RMSE модели"
   ]
  },
  {
   "cell_type": "code",
   "execution_count": 25,
   "metadata": {},
   "outputs": [],
   "source": [
    "def predict(df, target_name):\n",
    "    features = df.drop([target_name] , axis=1)\n",
    "    target = df[target_name]\n",
    "    \n",
    "    features_train, features_valid, target_train, target_valid = train_test_split(\n",
    "    features, target, test_size=0.25, random_state=12345)\n",
    "    \n",
    "    model.fit(features_train, target_train)\n",
    "    predicted_target = model.predict(features_valid)\n",
    "    data = {'real_product' : target_valid,\n",
    "            'predicted_product' : predicted_target         \n",
    "    }\n",
    "    data_frame = pd.DataFrame(data, columns = ['real_product', 'predicted_product'])\n",
    "    rmse = mean_squared_error(target_valid, predicted_target)**0.5\n",
    "    mean = data_frame['predicted_product'].mean()\n",
    "    oil_sum = data_frame['predicted_product'].sum()\n",
    "    return data_frame, rmse, mean, oil_sum"
   ]
  },
  {
   "cell_type": "code",
   "execution_count": 26,
   "metadata": {},
   "outputs": [
    {
     "name": "stdout",
     "output_type": "stream",
     "text": [
      "Регион 0\n",
      "------------------------------------------------------------------\n",
      "       real_product  predicted_product\n",
      "71751     10.038645          95.894952\n",
      "80493    114.551489          77.572583\n",
      "2655     132.603635          77.892640\n",
      "53233    169.072125          90.175134\n",
      "91141    122.325180          70.510088\n",
      "------------------------------------------------------------------\n",
      "RMSE: 37.5794217150813\n",
      "------------------------------------------------------------------\n",
      "Средний прогнозируемый запас запасанного сырья: 92.59256778438038\n",
      "------------------------------------------------------------------\n",
      "Общая сумма прогнозируемых запасов: 2314814.1946095093\n"
     ]
    }
   ],
   "source": [
    "data_region_0_pred, rmse_region_0, mean_region_0, data_region_0_pred_sum = predict(data_region_0, 'product')\n",
    "print('Регион 0')\n",
    "print('------------------------------------------------------------------')\n",
    "print(data_region_0_pred.head())\n",
    "print('------------------------------------------------------------------')\n",
    "print('RMSE:', rmse_region_0)\n",
    "print('------------------------------------------------------------------')\n",
    "print('Средний прогнозируемый запас запасанного сырья:', mean_region_0)\n",
    "print('------------------------------------------------------------------')\n",
    "print('Общая сумма прогнозируемых запасов:',data_region_0_pred_sum)"
   ]
  },
  {
   "cell_type": "code",
   "execution_count": 27,
   "metadata": {},
   "outputs": [
    {
     "name": "stdout",
     "output_type": "stream",
     "text": [
      "Регион 1\n",
      "------------------------------------------------------------------\n",
      "       real_product  predicted_product\n",
      "71751     80.859783          82.663314\n",
      "80493     53.906522          54.431786\n",
      "2655      30.132364          29.748760\n",
      "53233     53.906522          53.552133\n",
      "91141      0.000000           1.243856\n",
      "------------------------------------------------------------------\n",
      "RMSE: 0.893099286775616\n",
      "------------------------------------------------------------------\n",
      "Средний прогнозируемый запас запасанного сырья: 68.728546895446\n",
      "------------------------------------------------------------------\n",
      "Общая сумма прогнозируемых запасов: 1718213.67238615\n"
     ]
    }
   ],
   "source": [
    "data_region_1_pred, rmse_region_1, mean_region_1, data_region_1_pred_sum = predict(data_region_1, 'product')\n",
    "\n",
    "print('Регион 1')\n",
    "print('------------------------------------------------------------------')\n",
    "print(data_region_1_pred.head())\n",
    "print('------------------------------------------------------------------')\n",
    "print('RMSE:', rmse_region_1)\n",
    "print('------------------------------------------------------------------')\n",
    "print('Средний прогнозируемый запас запасанного сырья:', mean_region_1)\n",
    "print('------------------------------------------------------------------')\n",
    "print('Общая сумма прогнозируемых запасов:',data_region_1_pred_sum)"
   ]
  },
  {
   "cell_type": "code",
   "execution_count": 28,
   "metadata": {},
   "outputs": [
    {
     "name": "stdout",
     "output_type": "stream",
     "text": [
      "Регион 2\n",
      "------------------------------------------------------------------\n",
      "       real_product  predicted_product\n",
      "71751     61.212375          93.599633\n",
      "80493     41.850118          75.105159\n",
      "2655      57.776581          90.066809\n",
      "53233    100.053761         105.162375\n",
      "91141    109.897122         115.303310\n",
      "------------------------------------------------------------------\n",
      "RMSE: 40.02970873393434\n",
      "------------------------------------------------------------------\n",
      "Средний прогнозируемый запас запасанного сырья: 94.96504596800489\n",
      "------------------------------------------------------------------\n",
      "Общая сумма прогнозируемых запасов: 2374126.1492001223\n"
     ]
    }
   ],
   "source": [
    "data_region_2_pred, rmse_region_2, mean_region_2, data_region_2_pred_sum = predict(data_region_2, 'product')\n",
    "\n",
    "print('Регион 2')\n",
    "print('------------------------------------------------------------------')\n",
    "print(data_region_2_pred.head())\n",
    "print('------------------------------------------------------------------')\n",
    "print('RMSE:', rmse_region_2)\n",
    "print('------------------------------------------------------------------')\n",
    "print('Средний прогнозируемый запас запасанного сырья:', mean_region_2)\n",
    "print('------------------------------------------------------------------')\n",
    "print('Общая сумма прогнозируемых запасов:',data_region_2_pred_sum)"
   ]
  },
  {
   "cell_type": "markdown",
   "metadata": {},
   "source": [
    "### Выводы"
   ]
  },
  {
   "cell_type": "code",
   "execution_count": 29,
   "metadata": {},
   "outputs": [
    {
     "name": "stdout",
     "output_type": "stream",
     "text": [
      "Общая сумма прогнозируемых запасов регион 0: 2314814\n",
      "Общая сумма реальных запасов регион 0: 2301964\n",
      "----------------------------------------------------\n",
      "Общая сумма прогнозируемых запасов регион 1 1718213\n",
      "Общая сумма реальных запасов регион 1: 1718078\n",
      "----------------------------------------------------\n",
      "Общая сумма прогнозируемых запасов регион 2 2374126\n",
      "Общая сумма реальных запасов регион 2: 2372105\n",
      "----------------------------------------------------\n",
      "Разнимца между фактом и прогнозом в регионе 0 -12850\n",
      "Разнимца между фактом и прогнозом в регионе 1 -135\n",
      "Разнимца между фактом и прогнозом в регионе 2 -2021\n"
     ]
    }
   ],
   "source": [
    "print('Общая сумма прогнозируемых запасов регион 0:', data_region_0_pred_sum.astype(int))\n",
    "print('Общая сумма реальных запасов регион 0:', target_valid_region_0.sum().astype(int))\n",
    "print('----------------------------------------------------')\n",
    "print('Общая сумма прогнозируемых запасов регион 1', data_region_1_pred_sum.astype(int))\n",
    "print('Общая сумма реальных запасов регион 1:', target_valid_region_1.sum().astype(int))\n",
    "print('----------------------------------------------------')\n",
    "print('Общая сумма прогнозируемых запасов регион 2', data_region_2_pred_sum.astype(int))\n",
    "print('Общая сумма реальных запасов регион 2:', target_valid_region_2.sum().astype(int))\n",
    "print('----------------------------------------------------')\n",
    "print('Разнимца между фактом и прогнозом в регионе 0', target_valid_region_0.sum().astype(int) - data_region_0_pred_sum.astype(int))\n",
    "print('Разнимца между фактом и прогнозом в регионе 1', target_valid_region_1.sum().astype(int) - data_region_1_pred_sum.astype(int))\n",
    "print('Разнимца между фактом и прогнозом в регионе 2', target_valid_region_2.sum().astype(int) - data_region_2_pred_sum.astype(int))"
   ]
  },
  {
   "cell_type": "markdown",
   "metadata": {},
   "source": [
    "Как показывают данные, в регионах ниже на 12 850, 132 и 2021. \n",
    "В обшем и в целом, модель линейной регресси хорошо продемонстрировала себя на регионе 1. Однако, в регионе 0 и 2 значительно больше объемов нефти, в этой связи нет смысла расматривать регион 1. "
   ]
  },
  {
   "cell_type": "markdown",
   "metadata": {},
   "source": [
    "## Подготовка к расчёту прибыли"
   ]
  },
  {
   "cell_type": "code",
   "execution_count": 30,
   "metadata": {},
   "outputs": [],
   "source": [
    "BUDGET = 1.00E+10\n",
    "CHOSEN_POINTS = 500\n",
    "BEST_POINTS = 200\n",
    "PRICE_PER_BARREL = 450"
   ]
  },
  {
   "cell_type": "code",
   "execution_count": 31,
   "metadata": {},
   "outputs": [
    {
     "name": "stdout",
     "output_type": "stream",
     "text": [
      "Средний доход на лучшую точку: 50000 тыс.руб.\n",
      "Средний объем нефти на точку - 111 тыс. барелей\n",
      "Средний объем нефти на регион - 22222222 тыс. барелей\n"
     ]
    }
   ],
   "source": [
    "average_profit_per_point = (BUDGET / BEST_POINTS) / 1000\n",
    "print('Средний доход на лучшую точку:', int(average_profit_per_point), 'тыс.руб.')\n",
    "\n",
    "average_barrels_per_point = average_profit_per_point  / PRICE_PER_BARREL\n",
    "print('Средний объем нефти на точку -',int(average_barrels_per_point), 'тыс. барелей')\n",
    "\n",
    "average_barrels = BUDGET / PRICE_PER_BARREL\n",
    "print('Средний объем нефти на регион -',int(average_barrels), 'тыс. барелей')"
   ]
  },
  {
   "cell_type": "markdown",
   "metadata": {},
   "source": [
    "Исходя из расчетов, нам нужно выбрать регион, который имеет объем нефти на уровне 22222222 баралей, при среднем значение скважены в 111 тыс баралей и доходностью в 50 млн. рублей. "
   ]
  },
  {
   "cell_type": "code",
   "execution_count": 32,
   "metadata": {},
   "outputs": [],
   "source": [
    "def hist_draw(data):\n",
    "    features = list(set(data.columns))\n",
    "    data.hist(figsize=(20,12));"
   ]
  },
  {
   "cell_type": "code",
   "execution_count": 33,
   "metadata": {},
   "outputs": [
    {
     "data": {
      "image/png": "[encoded data removed]",
      "text/plain": [
       "<Figure size 1440x864 with 4 Axes>"
      ]
     },
     "metadata": {
      "needs_background": "light"
     },
     "output_type": "display_data"
    }
   ],
   "source": [
    "hist_draw(data_region_0)"
   ]
  },
  {
   "cell_type": "code",
   "execution_count": 34,
   "metadata": {},
   "outputs": [
    {
     "data": {
      "image/png": "[encoded data removed]",
      "text/plain": [
       "<Figure size 1440x864 with 4 Axes>"
      ]
     },
     "metadata": {
      "needs_background": "light"
     },
     "output_type": "display_data"
    }
   ],
   "source": [
    "hist_draw(data_region_1)"
   ]
  },
  {
   "cell_type": "code",
   "execution_count": 35,
   "metadata": {},
   "outputs": [
    {
     "data": {
      "image/png": "[encoded data removed]",
      "text/plain": [
       "<Figure size 1440x864 with 4 Axes>"
      ]
     },
     "metadata": {
      "needs_background": "light"
     },
     "output_type": "display_data"
    }
   ],
   "source": [
    "hist_draw(data_region_2)"
   ]
  },
  {
   "cell_type": "code",
   "execution_count": 42,
   "metadata": {},
   "outputs": [
    {
     "name": "stdout",
     "output_type": "stream",
     "text": [
      "Средний запас фактичекой нефти на скважину в регионе 0 92\n",
      "Средний запас фактичекой нефти на скважину в регионе 1 68\n",
      "Средний запас фактичекой нефти на скважину в регионе 2 94\n"
     ]
    }
   ],
   "source": [
    "print('Средний запас фактичекой нефти на скважину в регионе 0', int(data_region_0_pred['real_product'].mean()))\n",
    "print('Средний запас фактичекой нефти на скважину в регионе 1', int(data_region_1_pred['real_product'].mean()))\n",
    "print('Средний запас фактичекой нефти на скважину в регионе 2', int(data_region_2_pred['real_product'].mean()))"
   ]
  },
  {
   "cell_type": "markdown",
   "metadata": {},
   "source": [
    "### Вывод"
   ]
  },
  {
   "cell_type": "markdown",
   "metadata": {},
   "source": [
    "Исходя из полученных расчетов в разделе 3, наиболее благоприятную обстановку имеют регион 0 и 2"
   ]
  },
  {
   "cell_type": "markdown",
   "metadata": {},
   "source": [
    "## Расчёт прибыли и рисков "
   ]
  },
  {
   "cell_type": "code",
   "execution_count": 79,
   "metadata": {},
   "outputs": [],
   "source": [
    "#функцию для расчета приыли на 500 разведанных точек\n",
    "def oil_profit_calculation(target, probabilities, count):\n",
    "    probs_sorted = probabilities.sort_values(ascending=False)\n",
    "    selected = target[probs_sorted.index][:count]\n",
    "    return PRICE_PER_BARREL * selected.sum() * 1000 - BUDGET"
   ]
  },
  {
   "cell_type": "code",
   "execution_count": 80,
   "metadata": {},
   "outputs": [],
   "source": [
    "# bootstrap_1000\n",
    "state = np.random.RandomState(12345)\n",
    "def bootstrap_1000(target, probs):\n",
    "    values=[]\n",
    "\n",
    "    for i in range(1000):\n",
    "        target_sample = target.sample(replace=True, random_state=state, n=CHOSEN_POINTS)\n",
    "        probs_sample = probs[target_sample.index]\n",
    "        profit = oil_profit_calculation(target_sample, probs_sample, BEST_POINTS)\n",
    "        values.append(profit)\n",
    "    \n",
    "    values = pd.Series(values)\n",
    "    lower = values.quantile(0.025)\n",
    "    upper = values.quantile(0.975)\n",
    "    average = values.mean() \n",
    "    risk = (values < 0).mean() #заменил\n",
    "    return average, lower, upper, risk"
   ]
  },
  {
   "cell_type": "code",
   "execution_count": 95,
   "metadata": {},
   "outputs": [
    {
     "name": "stdout",
     "output_type": "stream",
     "text": [
      "Данные по первому региону.\n",
      "Средняя прибыль по региону = 417.74 млн.руб.\n",
      "95% доверительный интервал от -130.49 до 951.53 млн.руб.\n",
      "Процент риска 6.60%\n"
     ]
    }
   ],
   "source": [
    "average_0, lower_0, upper_0, risk_0 = bootstrap_1000(data_region_0_pred['real_product'], \n",
    "                                                     data_region_0_pred['predicted_product'])\n",
    "print('Данные по первому региону.')\n",
    "print('Средняя прибыль по региону = {:.2f} млн.руб.'.format(average_0 /1000 / 1000))\n",
    "print('95% доверительный интервал от {:.2f} до {:.2f} млн.руб.'.format(lower_0 /1000 / 1000, upper_0 /1000 / 1000))\n",
    "print('Процент риска {:.2%}'.format(risk_0))"
   ]
  },
  {
   "cell_type": "code",
   "execution_count": 96,
   "metadata": {},
   "outputs": [
    {
     "name": "stdout",
     "output_type": "stream",
     "text": [
      "Данные по первому региону.\n",
      "Средняя прибыль по региону = 513.56  млн.руб.\n",
      "95% доверительный интервал от 106.49 до 925.82 млн.руб.\n",
      "Процент риска 0.40%\n"
     ]
    }
   ],
   "source": [
    "average_1, lower_1, upper_1, risk_1 = bootstrap_1000(data_region_1_pred['real_product'], \n",
    "                                                     data_region_1_pred['predicted_product'])\n",
    "print('Данные по первому региону.')\n",
    "print('Средняя прибыль по региону = {:.2f}  млн.руб.'.format(average_1 /1000 / 1000))\n",
    "print('95% доверительный интервал от {:.2f} до {:.2f} млн.руб.'.format(lower_1 /1000 / 1000, upper_1 /1000 / 1000))\n",
    "print('Процент риска {:.2%}'.format(risk_1))"
   ]
  },
  {
   "cell_type": "code",
   "execution_count": 97,
   "metadata": {},
   "outputs": [
    {
     "name": "stdout",
     "output_type": "stream",
     "text": [
      "Данные по первому региону.\n",
      "Средняя прибыль по региону = 428.41 млн.руб.\n",
      "95% доверительный интервал от -105.48 до 1002.15 млн.руб.\n",
      "Процент риска 6.40%\n"
     ]
    }
   ],
   "source": [
    "average_2, lower_2, upper_2, risk_2 = bootstrap_1000(data_region_2_pred['real_product'], \n",
    "                                                     data_region_2_pred['predicted_product'])\n",
    "print('Данные по первому региону.')\n",
    "print('Средняя прибыль по региону = {:.2f} млн.руб.'.format(average_2 /1000 / 1000))\n",
    "print('95% доверительный интервал от {:.2f} до {:.2f} млн.руб.'.format(lower_2 /1000 / 1000, upper_2 /1000 / 1000))\n",
    "print('Процент риска {:.2%}'.format(risk_2))"
   ]
  },
  {
   "cell_type": "markdown",
   "metadata": {},
   "source": [
    "### Вывод"
   ]
  },
  {
   "cell_type": "markdown",
   "metadata": {},
   "source": [
    "Согласно заданым параметром, был произведен анализ 3 локаций по нефтянным скважинам. Не смотря на то, что объем нефти в регионе 1 меньше чем в других. Однако, результаты демонстрируют высокий уровень окупаемости 200 скважин именно в регионе 1. Тогда как, другие регионы не демоснитруют, высокого уровня окупаемости. Также следует отметить, что регион 0 и 3 имеют высокий риск потерять денежные средства. Также в доверительном интервале регион 0 и 2 наблюдаются значительные потери более чем в 100 млн. рублей. \n",
    "Таким обзом, лучше всего инвестировать 10 млрд. рублей лучше всего в регион 1."
   ]
  }
 ],
 "metadata": {
  "ExecuteTimeLog": [
   {
    "duration": 1999,
    "start_time": "2021-11-12T08:12:43.398Z"
   },
   {
    "duration": 2368,
    "start_time": "2021-11-12T08:14:05.616Z"
   },
   {
    "duration": 400,
    "start_time": "2021-11-12T08:14:27.752Z"
   },
   {
    "duration": 432,
    "start_time": "2021-11-12T08:15:18.345Z"
   },
   {
    "duration": 12,
    "start_time": "2021-11-12T08:19:22.368Z"
   },
   {
    "duration": 5,
    "start_time": "2021-11-12T08:19:41.580Z"
   },
   {
    "duration": 13,
    "start_time": "2021-11-12T08:20:04.763Z"
   },
   {
    "duration": 12,
    "start_time": "2021-11-12T08:20:53.899Z"
   },
   {
    "duration": 10,
    "start_time": "2021-11-12T08:21:02.891Z"
   },
   {
    "duration": 39,
    "start_time": "2021-11-12T08:21:40.643Z"
   },
   {
    "duration": 133,
    "start_time": "2021-11-12T08:22:11.234Z"
   },
   {
    "duration": 38,
    "start_time": "2021-11-12T08:22:19.804Z"
   },
   {
    "duration": 130,
    "start_time": "2021-11-12T08:23:23.532Z"
   },
   {
    "duration": 12,
    "start_time": "2021-11-12T08:23:24.196Z"
   },
   {
    "duration": 1685,
    "start_time": "2021-11-12T08:23:34.798Z"
   },
   {
    "duration": 135,
    "start_time": "2021-11-12T08:23:36.485Z"
   },
   {
    "duration": 13,
    "start_time": "2021-11-12T08:23:36.622Z"
   },
   {
    "duration": 6,
    "start_time": "2021-11-12T08:23:36.637Z"
   },
   {
    "duration": 24,
    "start_time": "2021-11-12T08:23:36.646Z"
   },
   {
    "duration": 13,
    "start_time": "2021-11-12T08:23:36.672Z"
   },
   {
    "duration": 10,
    "start_time": "2021-11-12T08:23:36.687Z"
   },
   {
    "duration": 72,
    "start_time": "2021-11-12T08:23:36.698Z"
   },
   {
    "duration": 13,
    "start_time": "2021-11-12T08:23:36.773Z"
   },
   {
    "duration": 12,
    "start_time": "2021-11-12T08:23:36.788Z"
   },
   {
    "duration": 131,
    "start_time": "2021-11-12T08:23:36.802Z"
   },
   {
    "duration": 259,
    "start_time": "2021-11-12T08:23:36.935Z"
   },
   {
    "duration": 76,
    "start_time": "2021-11-12T08:25:36.117Z"
   },
   {
    "duration": 128,
    "start_time": "2021-11-12T08:27:40.212Z"
   },
   {
    "duration": 11,
    "start_time": "2021-11-12T08:27:47.687Z"
   },
   {
    "duration": 4,
    "start_time": "2021-11-12T08:29:01.558Z"
   },
   {
    "duration": 9,
    "start_time": "2021-11-12T08:29:18.479Z"
   },
   {
    "duration": 9,
    "start_time": "2021-11-12T08:29:30.559Z"
   },
   {
    "duration": 11,
    "start_time": "2021-11-12T08:29:37.103Z"
   },
   {
    "duration": 12,
    "start_time": "2021-11-12T08:29:45.462Z"
   },
   {
    "duration": 3,
    "start_time": "2021-11-12T08:29:58.839Z"
   },
   {
    "duration": 126,
    "start_time": "2021-11-12T08:37:08.587Z"
   },
   {
    "duration": 11,
    "start_time": "2021-11-12T08:37:08.994Z"
   },
   {
    "duration": 4,
    "start_time": "2021-11-12T08:37:10.642Z"
   },
   {
    "duration": 15,
    "start_time": "2021-11-12T08:37:35.707Z"
   },
   {
    "duration": 12,
    "start_time": "2021-11-12T08:37:49.451Z"
   },
   {
    "duration": 4789,
    "start_time": "2021-11-12T08:58:28.965Z"
   },
   {
    "duration": 319,
    "start_time": "2021-11-12T08:58:57.862Z"
   },
   {
    "duration": 299,
    "start_time": "2021-11-12T08:59:28.212Z"
   },
   {
    "duration": 279,
    "start_time": "2021-11-12T08:59:42.901Z"
   },
   {
    "duration": 443,
    "start_time": "2021-11-12T09:04:40.266Z"
   },
   {
    "duration": 95,
    "start_time": "2021-11-12T09:05:28.955Z"
   },
   {
    "duration": 439,
    "start_time": "2021-11-12T09:05:34.274Z"
   },
   {
    "duration": 452,
    "start_time": "2021-11-12T09:09:03.060Z"
   },
   {
    "duration": 389,
    "start_time": "2021-11-12T09:10:04.884Z"
   },
   {
    "duration": 678,
    "start_time": "2021-11-12T09:10:38.027Z"
   },
   {
    "duration": 198,
    "start_time": "2021-11-12T09:12:25.877Z"
   },
   {
    "duration": 281,
    "start_time": "2021-11-12T09:29:14.046Z"
   },
   {
    "duration": 1829,
    "start_time": "2021-11-12T09:31:19.251Z"
   },
   {
    "duration": 407,
    "start_time": "2021-11-12T09:31:21.082Z"
   },
   {
    "duration": 491,
    "start_time": "2021-11-12T09:31:21.491Z"
   },
   {
    "duration": 321,
    "start_time": "2021-11-12T09:31:21.984Z"
   },
   {
    "duration": 2543,
    "start_time": "2021-11-13T15:23:37.768Z"
   },
   {
    "duration": 453,
    "start_time": "2021-11-13T15:23:40.314Z"
   },
   {
    "duration": 574,
    "start_time": "2021-11-13T15:23:40.770Z"
   },
   {
    "duration": 2164,
    "start_time": "2021-11-13T15:48:13.814Z"
   },
   {
    "duration": 459,
    "start_time": "2021-11-13T15:48:15.981Z"
   },
   {
    "duration": 592,
    "start_time": "2021-11-13T15:48:16.443Z"
   },
   {
    "duration": 478,
    "start_time": "2021-11-13T15:51:41.589Z"
   },
   {
    "duration": 358,
    "start_time": "2021-11-13T15:51:42.387Z"
   },
   {
    "duration": 330,
    "start_time": "2021-11-13T15:51:43.333Z"
   },
   {
    "duration": 343,
    "start_time": "2021-11-13T15:52:02.131Z"
   },
   {
    "duration": 345,
    "start_time": "2021-11-13T15:52:09.429Z"
   },
   {
    "duration": 372,
    "start_time": "2021-11-13T15:52:15.097Z"
   },
   {
    "duration": 3014,
    "start_time": "2021-11-13T16:03:07.376Z"
   },
   {
    "duration": 121,
    "start_time": "2021-11-13T16:03:41.945Z"
   },
   {
    "duration": 2240,
    "start_time": "2021-11-13T16:03:46.477Z"
   },
   {
    "duration": 7,
    "start_time": "2021-11-13T16:18:29.655Z"
   },
   {
    "duration": 322,
    "start_time": "2021-11-13T16:19:52.180Z"
   },
   {
    "duration": 7,
    "start_time": "2021-11-13T16:19:54.484Z"
   },
   {
    "duration": 312,
    "start_time": "2021-11-13T16:19:55.010Z"
   },
   {
    "duration": 78,
    "start_time": "2021-11-13T16:20:00.597Z"
   },
   {
    "duration": 318,
    "start_time": "2021-11-13T16:20:39.488Z"
   },
   {
    "duration": 14,
    "start_time": "2021-11-13T16:21:22.159Z"
   },
   {
    "duration": 14,
    "start_time": "2021-11-13T16:21:29.434Z"
   },
   {
    "duration": 13,
    "start_time": "2021-11-13T16:21:36.623Z"
   },
   {
    "duration": 514,
    "start_time": "2021-11-13T16:23:39.928Z"
   },
   {
    "duration": 19,
    "start_time": "2021-11-13T16:23:55.704Z"
   },
   {
    "duration": 292,
    "start_time": "2021-11-13T16:24:25.662Z"
   },
   {
    "duration": 344,
    "start_time": "2021-11-13T16:24:39.369Z"
   },
   {
    "duration": 15,
    "start_time": "2021-11-13T16:24:45.989Z"
   },
   {
    "duration": 14,
    "start_time": "2021-11-13T16:24:47.268Z"
   },
   {
    "duration": 15,
    "start_time": "2021-11-13T16:24:58.781Z"
   },
   {
    "duration": 15,
    "start_time": "2021-11-13T16:25:56.850Z"
   },
   {
    "duration": 13,
    "start_time": "2021-11-13T16:25:57.554Z"
   },
   {
    "duration": 15,
    "start_time": "2021-11-13T16:25:58.385Z"
   },
   {
    "duration": 13,
    "start_time": "2021-11-13T16:25:59.092Z"
   },
   {
    "duration": 363,
    "start_time": "2021-11-13T16:26:00.032Z"
   },
   {
    "duration": 379,
    "start_time": "2021-11-13T16:26:01.102Z"
   },
   {
    "duration": 370,
    "start_time": "2021-11-13T16:26:02.294Z"
   },
   {
    "duration": 290,
    "start_time": "2021-11-13T16:33:12.996Z"
   },
   {
    "duration": 1433,
    "start_time": "2021-11-13T16:33:17.700Z"
   },
   {
    "duration": 1499,
    "start_time": "2021-11-13T16:33:29.873Z"
   },
   {
    "duration": 1379,
    "start_time": "2021-11-13T16:33:41.055Z"
   },
   {
    "duration": 4,
    "start_time": "2021-11-13T16:35:16.664Z"
   },
   {
    "duration": 3,
    "start_time": "2021-11-13T16:36:55.653Z"
   },
   {
    "duration": -165,
    "start_time": "2021-11-13T16:38:10.109Z"
   },
   {
    "duration": -220,
    "start_time": "2021-11-13T16:38:10.173Z"
   },
   {
    "duration": 3,
    "start_time": "2021-11-13T16:38:13.263Z"
   },
   {
    "duration": 5,
    "start_time": "2021-11-13T16:58:24.758Z"
   },
   {
    "duration": 2205,
    "start_time": "2021-11-15T03:15:29.345Z"
   },
   {
    "duration": 484,
    "start_time": "2021-11-15T03:15:31.553Z"
   },
   {
    "duration": 601,
    "start_time": "2021-11-15T03:15:32.040Z"
   },
   {
    "duration": 2274,
    "start_time": "2021-11-15T03:15:32.644Z"
   },
   {
    "duration": 10,
    "start_time": "2021-11-15T03:15:34.921Z"
   },
   {
    "duration": 364,
    "start_time": "2021-11-15T03:15:34.933Z"
   },
   {
    "duration": 14,
    "start_time": "2021-11-15T03:15:35.299Z"
   },
   {
    "duration": 28,
    "start_time": "2021-11-15T03:15:35.330Z"
   },
   {
    "duration": 14,
    "start_time": "2021-11-15T03:15:35.361Z"
   },
   {
    "duration": 27,
    "start_time": "2021-11-15T03:15:35.377Z"
   },
   {
    "duration": 373,
    "start_time": "2021-11-15T03:15:35.407Z"
   },
   {
    "duration": 382,
    "start_time": "2021-11-15T03:15:35.783Z"
   },
   {
    "duration": 391,
    "start_time": "2021-11-15T03:15:36.167Z"
   },
   {
    "duration": 1425,
    "start_time": "2021-11-15T03:15:36.561Z"
   },
   {
    "duration": 1471,
    "start_time": "2021-11-15T03:15:37.988Z"
   },
   {
    "duration": 1362,
    "start_time": "2021-11-15T03:15:39.461Z"
   },
   {
    "duration": 4,
    "start_time": "2021-11-15T03:15:40.829Z"
   },
   {
    "duration": 111,
    "start_time": "2021-11-15T03:15:40.835Z"
   },
   {
    "duration": 21,
    "start_time": "2021-11-15T03:21:13.488Z"
   },
   {
    "duration": 2148,
    "start_time": "2021-11-15T04:36:58.985Z"
   },
   {
    "duration": 479,
    "start_time": "2021-11-15T04:37:01.136Z"
   },
   {
    "duration": 619,
    "start_time": "2021-11-15T04:37:01.619Z"
   },
   {
    "duration": 2382,
    "start_time": "2021-11-15T04:37:02.241Z"
   },
   {
    "duration": 6,
    "start_time": "2021-11-15T04:37:04.629Z"
   },
   {
    "duration": 368,
    "start_time": "2021-11-15T04:37:04.637Z"
   },
   {
    "duration": 25,
    "start_time": "2021-11-15T04:37:05.007Z"
   },
   {
    "duration": 14,
    "start_time": "2021-11-15T04:37:05.036Z"
   },
   {
    "duration": 27,
    "start_time": "2021-11-15T04:37:05.053Z"
   },
   {
    "duration": 25,
    "start_time": "2021-11-15T04:37:05.083Z"
   },
   {
    "duration": 381,
    "start_time": "2021-11-15T04:37:05.111Z"
   },
   {
    "duration": 390,
    "start_time": "2021-11-15T04:37:05.494Z"
   },
   {
    "duration": 390,
    "start_time": "2021-11-15T04:37:05.887Z"
   },
   {
    "duration": 1351,
    "start_time": "2021-11-15T04:37:06.280Z"
   },
   {
    "duration": 1475,
    "start_time": "2021-11-15T04:37:07.634Z"
   },
   {
    "duration": 1356,
    "start_time": "2021-11-15T04:37:09.112Z"
   },
   {
    "duration": 4,
    "start_time": "2021-11-15T04:37:10.470Z"
   },
   {
    "duration": 38,
    "start_time": "2021-11-15T04:37:10.476Z"
   },
   {
    "duration": 502,
    "start_time": "2021-11-15T04:37:10.516Z"
   },
   {
    "duration": 593,
    "start_time": "2021-11-15T04:52:21.911Z"
   },
   {
    "duration": 2322,
    "start_time": "2021-11-15T04:52:22.507Z"
   },
   {
    "duration": 6,
    "start_time": "2021-11-15T04:52:24.833Z"
   },
   {
    "duration": 371,
    "start_time": "2021-11-15T04:52:24.843Z"
   },
   {
    "duration": 14,
    "start_time": "2021-11-15T04:52:25.228Z"
   },
   {
    "duration": 18,
    "start_time": "2021-11-15T04:52:25.244Z"
   },
   {
    "duration": 16,
    "start_time": "2021-11-15T04:52:25.266Z"
   },
   {
    "duration": 53,
    "start_time": "2021-11-15T04:52:25.286Z"
   },
   {
    "duration": 534,
    "start_time": "2021-11-15T04:52:25.342Z"
   },
   {
    "duration": 386,
    "start_time": "2021-11-15T04:52:25.879Z"
   },
   {
    "duration": 392,
    "start_time": "2021-11-15T04:52:26.267Z"
   },
   {
    "duration": 1348,
    "start_time": "2021-11-15T04:52:26.662Z"
   },
   {
    "duration": 1395,
    "start_time": "2021-11-15T04:52:28.012Z"
   },
   {
    "duration": 1484,
    "start_time": "2021-11-15T04:52:29.409Z"
   },
   {
    "duration": 6,
    "start_time": "2021-11-15T04:54:30.358Z"
   },
   {
    "duration": 5,
    "start_time": "2021-11-15T04:55:15.479Z"
   },
   {
    "duration": 327,
    "start_time": "2021-11-15T04:57:18.991Z"
   },
   {
    "duration": 29,
    "start_time": "2021-11-15T04:57:52.552Z"
   },
   {
    "duration": 6,
    "start_time": "2021-11-15T04:58:16.986Z"
   },
   {
    "duration": 11,
    "start_time": "2021-11-15T04:58:39.369Z"
   },
   {
    "duration": 15,
    "start_time": "2021-11-15T05:02:24.308Z"
   },
   {
    "duration": 10,
    "start_time": "2021-11-15T05:02:28.563Z"
   },
   {
    "duration": 465,
    "start_time": "2021-11-15T05:02:29.094Z"
   },
   {
    "duration": 595,
    "start_time": "2021-11-15T05:02:29.562Z"
   },
   {
    "duration": 2226,
    "start_time": "2021-11-15T05:02:30.160Z"
   },
   {
    "duration": 6,
    "start_time": "2021-11-15T05:02:32.389Z"
   },
   {
    "duration": 375,
    "start_time": "2021-11-15T05:02:32.398Z"
   },
   {
    "duration": 13,
    "start_time": "2021-11-15T05:02:32.775Z"
   },
   {
    "duration": 39,
    "start_time": "2021-11-15T05:02:32.790Z"
   },
   {
    "duration": 14,
    "start_time": "2021-11-15T05:02:32.833Z"
   },
   {
    "duration": 16,
    "start_time": "2021-11-15T05:02:32.849Z"
   },
   {
    "duration": 403,
    "start_time": "2021-11-15T05:02:32.867Z"
   },
   {
    "duration": 394,
    "start_time": "2021-11-15T05:02:33.273Z"
   },
   {
    "duration": 398,
    "start_time": "2021-11-15T05:02:33.669Z"
   },
   {
    "duration": 1632,
    "start_time": "2021-11-15T05:02:34.069Z"
   },
   {
    "duration": 1548,
    "start_time": "2021-11-15T05:02:35.704Z"
   },
   {
    "duration": 1490,
    "start_time": "2021-11-15T05:02:37.254Z"
   },
   {
    "duration": 15,
    "start_time": "2021-11-15T05:02:38.746Z"
   },
   {
    "duration": 21,
    "start_time": "2021-11-15T05:02:38.764Z"
   },
   {
    "duration": 27,
    "start_time": "2021-11-15T05:02:38.788Z"
   },
   {
    "duration": 15,
    "start_time": "2021-11-15T05:02:38.817Z"
   },
   {
    "duration": 21,
    "start_time": "2021-11-15T05:02:38.835Z"
   },
   {
    "duration": 21,
    "start_time": "2021-11-15T05:03:46.050Z"
   },
   {
    "duration": 22,
    "start_time": "2021-11-15T05:08:25.701Z"
   },
   {
    "duration": 18,
    "start_time": "2021-11-15T05:09:01.862Z"
   },
   {
    "duration": 21,
    "start_time": "2021-11-15T05:09:58.998Z"
   },
   {
    "duration": 17,
    "start_time": "2021-11-15T05:10:12.878Z"
   },
   {
    "duration": 16,
    "start_time": "2021-11-15T05:14:33.720Z"
   },
   {
    "duration": 16,
    "start_time": "2021-11-15T05:14:34.200Z"
   },
   {
    "duration": 16,
    "start_time": "2021-11-15T05:14:34.760Z"
   },
   {
    "duration": 334,
    "start_time": "2021-11-15T05:14:41.536Z"
   },
   {
    "duration": 16,
    "start_time": "2021-11-15T05:26:08.036Z"
   },
   {
    "duration": 16,
    "start_time": "2021-11-15T05:26:08.475Z"
   },
   {
    "duration": 16,
    "start_time": "2021-11-15T05:26:08.891Z"
   },
   {
    "duration": 6,
    "start_time": "2021-11-15T05:26:16.276Z"
   },
   {
    "duration": 7,
    "start_time": "2021-11-15T05:27:27.932Z"
   },
   {
    "duration": 4,
    "start_time": "2021-11-15T05:30:08.413Z"
   },
   {
    "duration": 8,
    "start_time": "2021-11-15T05:30:14.653Z"
   },
   {
    "duration": 8,
    "start_time": "2021-11-15T05:30:24.238Z"
   },
   {
    "duration": 7,
    "start_time": "2021-11-15T05:33:27.202Z"
   },
   {
    "duration": 7,
    "start_time": "2021-11-15T06:04:01.465Z"
   },
   {
    "duration": 23,
    "start_time": "2021-11-15T06:07:42.626Z"
   },
   {
    "duration": 17,
    "start_time": "2021-11-15T06:07:43.138Z"
   },
   {
    "duration": 16,
    "start_time": "2021-11-15T06:07:43.618Z"
   },
   {
    "duration": 16,
    "start_time": "2021-11-15T06:08:46.993Z"
   },
   {
    "duration": 15,
    "start_time": "2021-11-15T06:08:49.763Z"
   },
   {
    "duration": 18,
    "start_time": "2021-11-15T06:08:50.195Z"
   },
   {
    "duration": 16,
    "start_time": "2021-11-15T06:08:50.636Z"
   },
   {
    "duration": 10,
    "start_time": "2021-11-15T06:10:24.892Z"
   },
   {
    "duration": 9,
    "start_time": "2021-11-15T06:10:49.061Z"
   },
   {
    "duration": 8,
    "start_time": "2021-11-15T06:10:59.556Z"
   },
   {
    "duration": 7,
    "start_time": "2021-11-15T06:11:06.421Z"
   },
   {
    "duration": 7,
    "start_time": "2021-11-15T06:11:08.318Z"
   },
   {
    "duration": 9,
    "start_time": "2021-11-15T06:12:22.404Z"
   },
   {
    "duration": 9,
    "start_time": "2021-11-15T06:12:38.772Z"
   },
   {
    "duration": 8,
    "start_time": "2021-11-15T06:12:40.021Z"
   },
   {
    "duration": 10,
    "start_time": "2021-11-15T06:13:19.021Z"
   },
   {
    "duration": 9,
    "start_time": "2021-11-15T06:14:29.798Z"
   },
   {
    "duration": 11,
    "start_time": "2021-11-15T06:14:31.685Z"
   },
   {
    "duration": 305,
    "start_time": "2021-11-15T06:14:47.406Z"
   },
   {
    "duration": 287,
    "start_time": "2021-11-15T06:14:49.302Z"
   },
   {
    "duration": 10,
    "start_time": "2021-11-15T06:14:55.062Z"
   },
   {
    "duration": 12,
    "start_time": "2021-11-15T06:14:57.214Z"
   },
   {
    "duration": 10,
    "start_time": "2021-11-15T06:15:04.882Z"
   },
   {
    "duration": 12,
    "start_time": "2021-11-15T06:15:06.316Z"
   },
   {
    "duration": 19,
    "start_time": "2021-11-15T06:15:19.212Z"
   },
   {
    "duration": 18,
    "start_time": "2021-11-15T06:15:53.614Z"
   },
   {
    "duration": 18,
    "start_time": "2021-11-15T06:17:43.728Z"
   },
   {
    "duration": 288,
    "start_time": "2021-11-15T06:22:45.351Z"
   },
   {
    "duration": 17,
    "start_time": "2021-11-15T06:23:05.208Z"
   },
   {
    "duration": 19,
    "start_time": "2021-11-15T06:23:05.719Z"
   },
   {
    "duration": 17,
    "start_time": "2021-11-15T06:23:06.248Z"
   },
   {
    "duration": 12,
    "start_time": "2021-11-15T06:23:08.367Z"
   },
   {
    "duration": 11,
    "start_time": "2021-11-15T06:24:46.074Z"
   },
   {
    "duration": 11,
    "start_time": "2021-11-15T06:24:49.795Z"
   },
   {
    "duration": 11,
    "start_time": "2021-11-15T06:24:59.699Z"
   },
   {
    "duration": 10,
    "start_time": "2021-11-15T06:25:18.603Z"
   },
   {
    "duration": 12,
    "start_time": "2021-11-15T06:25:28.185Z"
   },
   {
    "duration": 12,
    "start_time": "2021-11-15T06:25:37.035Z"
   },
   {
    "duration": 12,
    "start_time": "2021-11-15T06:27:06.670Z"
   },
   {
    "duration": 11,
    "start_time": "2021-11-15T06:29:58.494Z"
   },
   {
    "duration": 13,
    "start_time": "2021-11-15T06:30:38.492Z"
   },
   {
    "duration": 11,
    "start_time": "2021-11-15T06:30:47.365Z"
   },
   {
    "duration": 11,
    "start_time": "2021-11-15T06:33:26.039Z"
   },
   {
    "duration": 12,
    "start_time": "2021-11-15T06:48:51.959Z"
   },
   {
    "duration": 16,
    "start_time": "2021-11-15T07:45:38.949Z"
   },
   {
    "duration": 17,
    "start_time": "2021-11-15T07:46:15.677Z"
   },
   {
    "duration": 15,
    "start_time": "2021-11-15T07:46:19.709Z"
   },
   {
    "duration": 282,
    "start_time": "2021-11-15T08:08:14.415Z"
   },
   {
    "duration": 3,
    "start_time": "2021-11-15T08:08:16.248Z"
   },
   {
    "duration": 302,
    "start_time": "2021-11-15T08:08:16.631Z"
   },
   {
    "duration": 4,
    "start_time": "2021-11-15T08:08:23.727Z"
   },
   {
    "duration": 7,
    "start_time": "2021-11-15T08:08:24.663Z"
   },
   {
    "duration": 3,
    "start_time": "2021-11-15T08:08:33.512Z"
   },
   {
    "duration": 7,
    "start_time": "2021-11-15T08:08:34.607Z"
   },
   {
    "duration": 4,
    "start_time": "2021-11-15T08:08:51.584Z"
   },
   {
    "duration": 6,
    "start_time": "2021-11-15T08:08:52.480Z"
   },
   {
    "duration": 6,
    "start_time": "2021-11-15T08:09:47.025Z"
   },
   {
    "duration": 7,
    "start_time": "2021-11-15T08:12:00.594Z"
   },
   {
    "duration": 297,
    "start_time": "2021-11-15T08:14:59.803Z"
   },
   {
    "duration": 291,
    "start_time": "2021-11-15T08:15:11.547Z"
   },
   {
    "duration": 300,
    "start_time": "2021-11-15T08:15:20.932Z"
   },
   {
    "duration": 287,
    "start_time": "2021-11-15T08:15:26.570Z"
   },
   {
    "duration": 6,
    "start_time": "2021-11-15T08:15:31.395Z"
   },
   {
    "duration": 7,
    "start_time": "2021-11-15T08:15:40.403Z"
   },
   {
    "duration": 8,
    "start_time": "2021-11-15T08:15:56.171Z"
   },
   {
    "duration": 7,
    "start_time": "2021-11-15T08:20:32.118Z"
   },
   {
    "duration": 7,
    "start_time": "2021-11-15T08:20:36.045Z"
   },
   {
    "duration": 13,
    "start_time": "2021-11-15T08:22:21.735Z"
   },
   {
    "duration": 482,
    "start_time": "2021-11-15T08:22:43.823Z"
   },
   {
    "duration": 738,
    "start_time": "2021-11-15T08:22:54.463Z"
   },
   {
    "duration": 740,
    "start_time": "2021-11-15T08:23:00.623Z"
   },
   {
    "duration": 488,
    "start_time": "2021-11-15T08:23:05.792Z"
   },
   {
    "duration": 1142,
    "start_time": "2021-11-15T08:23:43.975Z"
   },
   {
    "duration": 988,
    "start_time": "2021-11-15T08:24:02.664Z"
   },
   {
    "duration": 955,
    "start_time": "2021-11-15T08:24:35.713Z"
   },
   {
    "duration": 1224,
    "start_time": "2021-11-15T08:24:53.319Z"
   },
   {
    "duration": 12,
    "start_time": "2021-11-15T08:25:38.705Z"
   },
   {
    "duration": 7059,
    "start_time": "2021-11-15T08:27:36.487Z"
   },
   {
    "duration": 9,
    "start_time": "2021-11-15T08:28:00.785Z"
   },
   {
    "duration": 358,
    "start_time": "2021-11-15T08:31:50.219Z"
   },
   {
    "duration": 17,
    "start_time": "2021-11-15T08:31:56.996Z"
   },
   {
    "duration": 11,
    "start_time": "2021-11-15T08:32:23.436Z"
   },
   {
    "duration": 2261,
    "start_time": "2021-11-15T08:32:36.907Z"
   },
   {
    "duration": 479,
    "start_time": "2021-11-15T08:32:39.170Z"
   },
   {
    "duration": 620,
    "start_time": "2021-11-15T08:32:39.652Z"
   },
   {
    "duration": 2407,
    "start_time": "2021-11-15T08:32:40.275Z"
   },
   {
    "duration": 6,
    "start_time": "2021-11-15T08:32:42.685Z"
   },
   {
    "duration": 385,
    "start_time": "2021-11-15T08:32:42.693Z"
   },
   {
    "duration": 14,
    "start_time": "2021-11-15T08:32:43.080Z"
   },
   {
    "duration": 36,
    "start_time": "2021-11-15T08:32:43.098Z"
   },
   {
    "duration": 14,
    "start_time": "2021-11-15T08:32:43.137Z"
   },
   {
    "duration": 28,
    "start_time": "2021-11-15T08:32:43.153Z"
   },
   {
    "duration": 416,
    "start_time": "2021-11-15T08:32:43.183Z"
   },
   {
    "duration": 384,
    "start_time": "2021-11-15T08:32:43.601Z"
   },
   {
    "duration": 405,
    "start_time": "2021-11-15T08:32:43.987Z"
   },
   {
    "duration": 1363,
    "start_time": "2021-11-15T08:32:44.394Z"
   },
   {
    "duration": 1484,
    "start_time": "2021-11-15T08:32:45.760Z"
   },
   {
    "duration": 1400,
    "start_time": "2021-11-15T08:32:47.246Z"
   },
   {
    "duration": 13,
    "start_time": "2021-11-15T08:32:48.649Z"
   },
   {
    "duration": 10,
    "start_time": "2021-11-15T08:32:48.665Z"
   },
   {
    "duration": 26,
    "start_time": "2021-11-15T08:32:48.677Z"
   },
   {
    "duration": 26,
    "start_time": "2021-11-15T08:32:48.705Z"
   },
   {
    "duration": 34,
    "start_time": "2021-11-15T08:32:48.733Z"
   },
   {
    "duration": 23,
    "start_time": "2021-11-15T08:32:48.769Z"
   },
   {
    "duration": 42,
    "start_time": "2021-11-15T08:32:48.796Z"
   },
   {
    "duration": 194,
    "start_time": "2021-11-15T08:32:48.842Z"
   },
   {
    "duration": 195,
    "start_time": "2021-11-15T08:32:49.039Z"
   },
   {
    "duration": 92,
    "start_time": "2021-11-15T08:32:49.238Z"
   },
   {
    "duration": 106,
    "start_time": "2021-11-15T08:32:49.334Z"
   },
   {
    "duration": 22,
    "start_time": "2021-11-15T08:32:49.442Z"
   },
   {
    "duration": 16,
    "start_time": "2021-11-15T08:32:49.467Z"
   },
   {
    "duration": 44,
    "start_time": "2021-11-15T08:32:49.485Z"
   },
   {
    "duration": 3,
    "start_time": "2021-11-15T08:32:49.532Z"
   },
   {
    "duration": 11,
    "start_time": "2021-11-15T08:32:49.538Z"
   },
   {
    "duration": 944,
    "start_time": "2021-11-15T08:32:49.551Z"
   },
   {
    "duration": 944,
    "start_time": "2021-11-15T08:32:50.497Z"
   },
   {
    "duration": 907,
    "start_time": "2021-11-15T08:32:51.444Z"
   },
   {
    "duration": 10,
    "start_time": "2021-11-15T08:32:52.354Z"
   },
   {
    "duration": 18,
    "start_time": "2021-11-15T08:32:52.367Z"
   },
   {
    "duration": 42,
    "start_time": "2021-11-15T08:32:52.388Z"
   },
   {
    "duration": 171,
    "start_time": "2021-11-15T08:32:52.434Z"
   },
   {
    "duration": 8,
    "start_time": "2021-11-15T08:36:18.341Z"
   },
   {
    "duration": 8,
    "start_time": "2021-11-15T08:36:39.566Z"
   },
   {
    "duration": 9,
    "start_time": "2021-11-15T08:37:06.974Z"
   },
   {
    "duration": 524,
    "start_time": "2021-11-15T08:38:02.368Z"
   },
   {
    "duration": 8,
    "start_time": "2021-11-15T08:38:04.894Z"
   },
   {
    "duration": 324,
    "start_time": "2021-11-15T08:38:05.302Z"
   },
   {
    "duration": 582,
    "start_time": "2021-11-15T08:38:20.759Z"
   },
   {
    "duration": 4,
    "start_time": "2021-11-15T08:39:05.007Z"
   },
   {
    "duration": 7,
    "start_time": "2021-11-15T08:39:05.671Z"
   },
   {
    "duration": 5106,
    "start_time": "2021-11-15T08:39:06.734Z"
   },
   {
    "duration": 4678,
    "start_time": "2021-11-15T08:40:11.695Z"
   },
   {
    "duration": 4607,
    "start_time": "2021-11-15T08:40:18.167Z"
   },
   {
    "duration": 4522,
    "start_time": "2021-11-15T08:41:10.192Z"
   },
   {
    "duration": 4,
    "start_time": "2021-11-15T08:42:13.609Z"
   },
   {
    "duration": 8,
    "start_time": "2021-11-15T08:42:13.945Z"
   },
   {
    "duration": 937,
    "start_time": "2021-11-15T08:42:20.424Z"
   },
   {
    "duration": 1044,
    "start_time": "2021-11-15T08:42:21.364Z"
   },
   {
    "duration": 1128,
    "start_time": "2021-11-15T08:42:22.411Z"
   },
   {
    "duration": 9,
    "start_time": "2021-11-15T08:42:23.542Z"
   },
   {
    "duration": 33,
    "start_time": "2021-11-15T08:42:23.554Z"
   },
   {
    "duration": 16,
    "start_time": "2021-11-15T08:42:23.590Z"
   },
   {
    "duration": 30,
    "start_time": "2021-11-15T08:42:23.609Z"
   },
   {
    "duration": 6,
    "start_time": "2021-11-15T08:42:23.644Z"
   },
   {
    "duration": 21,
    "start_time": "2021-11-15T08:42:23.654Z"
   },
   {
    "duration": 7393,
    "start_time": "2021-11-15T08:42:23.679Z"
   },
   {
    "duration": 7701,
    "start_time": "2021-11-15T08:42:31.075Z"
   },
   {
    "duration": 4859,
    "start_time": "2021-11-15T08:42:38.778Z"
   },
   {
    "duration": 4457,
    "start_time": "2021-11-15T08:57:39.825Z"
   },
   {
    "duration": 7,
    "start_time": "2021-11-15T09:00:46.762Z"
   },
   {
    "duration": 283,
    "start_time": "2021-11-15T09:00:47.338Z"
   },
   {
    "duration": 661,
    "start_time": "2021-11-15T09:01:09.819Z"
   },
   {
    "duration": 10,
    "start_time": "2021-11-15T09:01:31.193Z"
   },
   {
    "duration": 470,
    "start_time": "2021-11-15T09:01:31.663Z"
   },
   {
    "duration": 615,
    "start_time": "2021-11-15T09:01:32.136Z"
   },
   {
    "duration": 2233,
    "start_time": "2021-11-15T09:01:32.755Z"
   },
   {
    "duration": 7,
    "start_time": "2021-11-15T09:01:34.992Z"
   },
   {
    "duration": 390,
    "start_time": "2021-11-15T09:01:35.002Z"
   },
   {
    "duration": 12,
    "start_time": "2021-11-15T09:01:35.394Z"
   },
   {
    "duration": 28,
    "start_time": "2021-11-15T09:01:35.408Z"
   },
   {
    "duration": 15,
    "start_time": "2021-11-15T09:01:35.439Z"
   },
   {
    "duration": 13,
    "start_time": "2021-11-15T09:01:35.457Z"
   },
   {
    "duration": 400,
    "start_time": "2021-11-15T09:01:35.472Z"
   },
   {
    "duration": 532,
    "start_time": "2021-11-15T09:01:35.874Z"
   },
   {
    "duration": 377,
    "start_time": "2021-11-15T09:01:36.408Z"
   },
   {
    "duration": 1394,
    "start_time": "2021-11-15T09:01:36.788Z"
   },
   {
    "duration": 1411,
    "start_time": "2021-11-15T09:01:38.185Z"
   },
   {
    "duration": 1383,
    "start_time": "2021-11-15T09:01:39.599Z"
   },
   {
    "duration": 14,
    "start_time": "2021-11-15T09:01:40.984Z"
   },
   {
    "duration": 10,
    "start_time": "2021-11-15T09:01:41.002Z"
   },
   {
    "duration": 18,
    "start_time": "2021-11-15T09:01:41.030Z"
   },
   {
    "duration": 15,
    "start_time": "2021-11-15T09:01:41.051Z"
   },
   {
    "duration": 26,
    "start_time": "2021-11-15T09:01:41.068Z"
   },
   {
    "duration": 23,
    "start_time": "2021-11-15T09:01:41.217Z"
   },
   {
    "duration": 24,
    "start_time": "2021-11-15T09:01:43.617Z"
   },
   {
    "duration": 15,
    "start_time": "2021-11-15T09:01:44.210Z"
   },
   {
    "duration": 80,
    "start_time": "2021-11-15T09:01:48.650Z"
   },
   {
    "duration": 3,
    "start_time": "2021-11-15T09:01:50.106Z"
   },
   {
    "duration": 7,
    "start_time": "2021-11-15T09:02:03.018Z"
   },
   {
    "duration": 603,
    "start_time": "2021-11-15T09:02:05.306Z"
   },
   {
    "duration": 101,
    "start_time": "2021-11-15T09:03:18.531Z"
   },
   {
    "duration": 162,
    "start_time": "2021-11-15T09:03:48.571Z"
   },
   {
    "duration": 9,
    "start_time": "2021-11-15T09:04:04.196Z"
   },
   {
    "duration": 13,
    "start_time": "2021-11-15T09:04:08.500Z"
   },
   {
    "duration": 130,
    "start_time": "2021-11-15T09:09:07.399Z"
   },
   {
    "duration": 100,
    "start_time": "2021-11-15T09:09:13.038Z"
   },
   {
    "duration": 159,
    "start_time": "2021-11-15T09:09:50.775Z"
   },
   {
    "duration": 136,
    "start_time": "2021-11-15T09:14:25.393Z"
   },
   {
    "duration": 128,
    "start_time": "2021-11-15T09:14:29.801Z"
   },
   {
    "duration": 47,
    "start_time": "2021-11-15T09:14:50.185Z"
   },
   {
    "duration": 153,
    "start_time": "2021-11-15T09:14:50.576Z"
   },
   {
    "duration": 16,
    "start_time": "2021-11-15T09:14:51.177Z"
   },
   {
    "duration": 4,
    "start_time": "2021-11-15T09:14:52.008Z"
   },
   {
    "duration": 7,
    "start_time": "2021-11-15T09:14:52.289Z"
   },
   {
    "duration": 1394,
    "start_time": "2021-11-15T09:14:52.881Z"
   },
   {
    "duration": 1398,
    "start_time": "2021-11-15T09:14:54.278Z"
   },
   {
    "duration": 1429,
    "start_time": "2021-11-15T09:14:55.679Z"
   },
   {
    "duration": 8290,
    "start_time": "2021-11-15T09:14:57.111Z"
   },
   {
    "duration": 228589,
    "start_time": "2021-11-15T09:11:16.815Z"
   },
   {
    "duration": 228589,
    "start_time": "2021-11-15T09:11:16.817Z"
   },
   {
    "duration": 228590,
    "start_time": "2021-11-15T09:11:16.818Z"
   },
   {
    "duration": 228589,
    "start_time": "2021-11-15T09:11:16.821Z"
   },
   {
    "duration": 228584,
    "start_time": "2021-11-15T09:11:16.828Z"
   },
   {
    "duration": 228584,
    "start_time": "2021-11-15T09:11:16.830Z"
   },
   {
    "duration": 228584,
    "start_time": "2021-11-15T09:11:16.832Z"
   },
   {
    "duration": 228584,
    "start_time": "2021-11-15T09:11:16.834Z"
   },
   {
    "duration": 10,
    "start_time": "2021-11-15T09:15:55.722Z"
   },
   {
    "duration": 318,
    "start_time": "2021-11-15T09:16:14.314Z"
   },
   {
    "duration": 291,
    "start_time": "2021-11-15T09:16:23.561Z"
   },
   {
    "duration": 291,
    "start_time": "2021-11-15T09:17:00.426Z"
   },
   {
    "duration": 4,
    "start_time": "2021-11-15T09:17:06.025Z"
   },
   {
    "duration": 7,
    "start_time": "2021-11-15T09:17:06.657Z"
   },
   {
    "duration": 1560,
    "start_time": "2021-11-15T09:17:23.050Z"
   },
   {
    "duration": 1517,
    "start_time": "2021-11-15T09:17:30.490Z"
   },
   {
    "duration": 310,
    "start_time": "2021-11-15T09:17:37.146Z"
   },
   {
    "duration": 1466,
    "start_time": "2021-11-15T09:17:41.410Z"
   },
   {
    "duration": 9,
    "start_time": "2021-11-15T09:18:24.162Z"
   },
   {
    "duration": 8,
    "start_time": "2021-11-15T09:18:24.658Z"
   },
   {
    "duration": 10,
    "start_time": "2021-11-15T09:18:25.202Z"
   },
   {
    "duration": 5,
    "start_time": "2021-11-15T09:18:32.498Z"
   },
   {
    "duration": 8,
    "start_time": "2021-11-15T09:18:51.452Z"
   },
   {
    "duration": 4705,
    "start_time": "2021-11-15T09:19:34.491Z"
   },
   {
    "duration": 4525,
    "start_time": "2021-11-15T09:19:39.198Z"
   },
   {
    "duration": 4476,
    "start_time": "2021-11-15T09:19:43.730Z"
   },
   {
    "duration": 2260,
    "start_time": "2021-11-16T11:21:47.907Z"
   },
   {
    "duration": 472,
    "start_time": "2021-11-16T11:21:50.170Z"
   },
   {
    "duration": 672,
    "start_time": "2021-11-16T11:21:50.645Z"
   },
   {
    "duration": 2505,
    "start_time": "2021-11-16T11:21:51.320Z"
   },
   {
    "duration": 15,
    "start_time": "2021-11-16T11:21:53.827Z"
   },
   {
    "duration": 27,
    "start_time": "2021-11-16T11:21:53.844Z"
   },
   {
    "duration": 14,
    "start_time": "2021-11-16T11:21:53.874Z"
   },
   {
    "duration": 437,
    "start_time": "2021-11-16T11:21:53.891Z"
   },
   {
    "duration": 383,
    "start_time": "2021-11-16T11:21:54.332Z"
   },
   {
    "duration": 400,
    "start_time": "2021-11-16T11:21:54.718Z"
   },
   {
    "duration": 1363,
    "start_time": "2021-11-16T11:21:55.121Z"
   },
   {
    "duration": 1524,
    "start_time": "2021-11-16T11:21:56.487Z"
   },
   {
    "duration": 1454,
    "start_time": "2021-11-16T11:21:58.014Z"
   },
   {
    "duration": 17,
    "start_time": "2021-11-16T11:21:59.470Z"
   },
   {
    "duration": 12,
    "start_time": "2021-11-16T11:21:59.490Z"
   },
   {
    "duration": 31,
    "start_time": "2021-11-16T11:21:59.505Z"
   },
   {
    "duration": 6,
    "start_time": "2021-11-16T11:21:59.540Z"
   },
   {
    "duration": 27,
    "start_time": "2021-11-16T11:21:59.549Z"
   },
   {
    "duration": 32,
    "start_time": "2021-11-16T11:21:59.579Z"
   },
   {
    "duration": 51,
    "start_time": "2021-11-16T11:21:59.614Z"
   },
   {
    "duration": 106,
    "start_time": "2021-11-16T11:21:59.668Z"
   },
   {
    "duration": 186,
    "start_time": "2021-11-16T11:21:59.778Z"
   },
   {
    "duration": 93,
    "start_time": "2021-11-16T11:21:59.967Z"
   },
   {
    "duration": 10,
    "start_time": "2021-11-16T11:22:00.062Z"
   },
   {
    "duration": 98,
    "start_time": "2021-11-16T11:22:00.074Z"
   },
   {
    "duration": 190,
    "start_time": "2021-11-16T11:22:00.272Z"
   },
   {
    "duration": 189,
    "start_time": "2021-11-16T11:22:00.473Z"
   },
   {
    "duration": 1147,
    "start_time": "2021-11-16T11:22:00.666Z"
   },
   {
    "duration": 229140,
    "start_time": "2021-11-16T11:18:12.675Z"
   },
   {
    "duration": 229141,
    "start_time": "2021-11-16T11:18:12.676Z"
   },
   {
    "duration": 229141,
    "start_time": "2021-11-16T11:18:12.678Z"
   },
   {
    "duration": 229141,
    "start_time": "2021-11-16T11:18:12.679Z"
   },
   {
    "duration": 229140,
    "start_time": "2021-11-16T11:18:12.681Z"
   },
   {
    "duration": 229140,
    "start_time": "2021-11-16T11:18:12.683Z"
   },
   {
    "duration": 229141,
    "start_time": "2021-11-16T11:18:12.684Z"
   },
   {
    "duration": 229141,
    "start_time": "2021-11-16T11:18:12.686Z"
   },
   {
    "duration": 229143,
    "start_time": "2021-11-16T11:18:12.687Z"
   },
   {
    "duration": 229143,
    "start_time": "2021-11-16T11:18:12.689Z"
   },
   {
    "duration": 229143,
    "start_time": "2021-11-16T11:18:12.691Z"
   },
   {
    "duration": 229144,
    "start_time": "2021-11-16T11:18:12.693Z"
   },
   {
    "duration": 229144,
    "start_time": "2021-11-16T11:18:12.694Z"
   },
   {
    "duration": 229144,
    "start_time": "2021-11-16T11:18:12.696Z"
   },
   {
    "duration": 4,
    "start_time": "2021-11-16T11:25:42.467Z"
   },
   {
    "duration": 10,
    "start_time": "2021-11-16T11:30:15.806Z"
   },
   {
    "duration": 461,
    "start_time": "2021-11-16T11:30:16.414Z"
   },
   {
    "duration": 566,
    "start_time": "2021-11-16T11:30:16.877Z"
   },
   {
    "duration": 2143,
    "start_time": "2021-11-16T11:30:17.458Z"
   },
   {
    "duration": 13,
    "start_time": "2021-11-16T11:30:19.604Z"
   },
   {
    "duration": 13,
    "start_time": "2021-11-16T11:30:19.620Z"
   },
   {
    "duration": 13,
    "start_time": "2021-11-16T11:30:19.659Z"
   },
   {
    "duration": 512,
    "start_time": "2021-11-16T11:30:19.675Z"
   },
   {
    "duration": 391,
    "start_time": "2021-11-16T11:30:20.190Z"
   },
   {
    "duration": 349,
    "start_time": "2021-11-16T11:30:20.584Z"
   },
   {
    "duration": 1327,
    "start_time": "2021-11-16T11:30:21.271Z"
   },
   {
    "duration": 1297,
    "start_time": "2021-11-16T11:30:22.601Z"
   },
   {
    "duration": 1446,
    "start_time": "2021-11-16T11:30:23.901Z"
   },
   {
    "duration": 15,
    "start_time": "2021-11-16T11:30:26.079Z"
   },
   {
    "duration": 4,
    "start_time": "2021-11-16T11:30:29.759Z"
   },
   {
    "duration": 20,
    "start_time": "2021-11-16T11:30:30.151Z"
   },
   {
    "duration": 6,
    "start_time": "2021-11-16T11:30:30.487Z"
   },
   {
    "duration": 21,
    "start_time": "2021-11-16T11:30:30.983Z"
   },
   {
    "duration": 21,
    "start_time": "2021-11-16T11:30:31.528Z"
   },
   {
    "duration": 4,
    "start_time": "2021-11-16T11:30:33.398Z"
   },
   {
    "duration": 5,
    "start_time": "2021-11-16T11:30:38.831Z"
   },
   {
    "duration": 885,
    "start_time": "2021-11-16T11:32:20.579Z"
   },
   {
    "duration": 4,
    "start_time": "2021-11-16T11:33:47.353Z"
   },
   {
    "duration": 6,
    "start_time": "2021-11-16T11:33:47.744Z"
   },
   {
    "duration": 854,
    "start_time": "2021-11-16T11:33:48.529Z"
   },
   {
    "duration": 83,
    "start_time": "2021-11-16T11:34:15.377Z"
   },
   {
    "duration": 17,
    "start_time": "2021-11-16T11:34:24.034Z"
   },
   {
    "duration": 180,
    "start_time": "2021-11-16T11:35:18.786Z"
   },
   {
    "duration": 9,
    "start_time": "2021-11-16T11:40:10.245Z"
   },
   {
    "duration": 3,
    "start_time": "2021-11-16T11:40:49.220Z"
   },
   {
    "duration": 7,
    "start_time": "2021-11-16T11:40:49.684Z"
   },
   {
    "duration": 63,
    "start_time": "2021-11-16T11:40:50.900Z"
   },
   {
    "duration": 119,
    "start_time": "2021-11-16T11:40:53.643Z"
   },
   {
    "duration": 200,
    "start_time": "2021-11-16T11:40:57.563Z"
   },
   {
    "duration": 16,
    "start_time": "2021-11-16T11:42:10.246Z"
   },
   {
    "duration": 4,
    "start_time": "2021-11-16T11:43:38.053Z"
   },
   {
    "duration": 9,
    "start_time": "2021-11-16T11:44:21.783Z"
   },
   {
    "duration": 5,
    "start_time": "2021-11-16T11:45:36.063Z"
   },
   {
    "duration": 1436,
    "start_time": "2021-11-16T11:45:52.127Z"
   },
   {
    "duration": 1364,
    "start_time": "2021-11-16T11:46:05.215Z"
   },
   {
    "duration": 2338,
    "start_time": "2021-11-16T11:51:30.005Z"
   },
   {
    "duration": 462,
    "start_time": "2021-11-16T11:51:32.346Z"
   },
   {
    "duration": 588,
    "start_time": "2021-11-16T11:51:32.811Z"
   },
   {
    "duration": 2516,
    "start_time": "2021-11-16T11:51:33.401Z"
   },
   {
    "duration": 14,
    "start_time": "2021-11-16T11:51:35.920Z"
   },
   {
    "duration": 40,
    "start_time": "2021-11-16T11:51:35.937Z"
   },
   {
    "duration": 19,
    "start_time": "2021-11-16T11:51:35.980Z"
   },
   {
    "duration": 500,
    "start_time": "2021-11-16T11:51:36.005Z"
   },
   {
    "duration": 478,
    "start_time": "2021-11-16T11:51:36.509Z"
   },
   {
    "duration": 395,
    "start_time": "2021-11-16T11:51:36.990Z"
   },
   {
    "duration": 1373,
    "start_time": "2021-11-16T11:51:37.387Z"
   },
   {
    "duration": 1481,
    "start_time": "2021-11-16T11:51:38.763Z"
   },
   {
    "duration": 1377,
    "start_time": "2021-11-16T11:51:40.247Z"
   },
   {
    "duration": 15,
    "start_time": "2021-11-16T11:51:41.626Z"
   },
   {
    "duration": 18,
    "start_time": "2021-11-16T11:51:41.643Z"
   },
   {
    "duration": 25,
    "start_time": "2021-11-16T11:51:41.663Z"
   },
   {
    "duration": 5,
    "start_time": "2021-11-16T11:51:41.691Z"
   },
   {
    "duration": 23,
    "start_time": "2021-11-16T11:51:41.699Z"
   },
   {
    "duration": 52,
    "start_time": "2021-11-16T11:51:41.725Z"
   },
   {
    "duration": 4,
    "start_time": "2021-11-16T11:51:41.779Z"
   },
   {
    "duration": 9,
    "start_time": "2021-11-16T11:51:41.785Z"
   },
   {
    "duration": 166,
    "start_time": "2021-11-16T11:51:41.796Z"
   },
   {
    "duration": 95,
    "start_time": "2021-11-16T11:51:41.969Z"
   },
   {
    "duration": 7,
    "start_time": "2021-11-16T11:51:42.067Z"
   },
   {
    "duration": 88,
    "start_time": "2021-11-16T11:51:42.076Z"
   },
   {
    "duration": 96,
    "start_time": "2021-11-16T11:51:42.166Z"
   },
   {
    "duration": 197,
    "start_time": "2021-11-16T11:51:42.266Z"
   },
   {
    "duration": 200,
    "start_time": "2021-11-16T11:51:42.466Z"
   },
   {
    "duration": 102,
    "start_time": "2021-11-16T11:51:42.669Z"
   },
   {
    "duration": 5,
    "start_time": "2021-11-16T11:51:42.774Z"
   },
   {
    "duration": 10,
    "start_time": "2021-11-16T11:51:42.782Z"
   },
   {
    "duration": 10,
    "start_time": "2021-11-16T11:51:42.794Z"
   },
   {
    "duration": 1566,
    "start_time": "2021-11-16T11:51:42.807Z"
   },
   {
    "duration": 1578,
    "start_time": "2021-11-16T11:51:44.375Z"
   },
   {
    "duration": 1463,
    "start_time": "2021-11-16T11:51:45.960Z"
   },
   {
    "duration": 8,
    "start_time": "2021-11-16T11:51:47.425Z"
   },
   {
    "duration": 23,
    "start_time": "2021-11-16T11:51:47.436Z"
   },
   {
    "duration": 8,
    "start_time": "2021-11-16T11:51:47.462Z"
   },
   {
    "duration": 765,
    "start_time": "2021-11-16T11:51:47.472Z"
   },
   {
    "duration": 229405,
    "start_time": "2021-11-16T11:47:58.834Z"
   },
   {
    "duration": 229404,
    "start_time": "2021-11-16T11:47:58.837Z"
   },
   {
    "duration": 139,
    "start_time": "2021-11-16T11:54:48.530Z"
   },
   {
    "duration": 9,
    "start_time": "2021-11-16T11:54:58.770Z"
   },
   {
    "duration": 9,
    "start_time": "2021-11-16T11:55:09.562Z"
   },
   {
    "duration": 808,
    "start_time": "2021-11-16T11:58:52.035Z"
   },
   {
    "duration": 832,
    "start_time": "2021-11-16T11:59:58.812Z"
   },
   {
    "duration": 6,
    "start_time": "2021-11-16T12:00:31.731Z"
   },
   {
    "duration": 9,
    "start_time": "2021-11-16T12:00:32.676Z"
   },
   {
    "duration": 2125,
    "start_time": "2021-11-16T12:00:34.080Z"
   },
   {
    "duration": 10,
    "start_time": "2021-11-16T12:00:50.469Z"
   },
   {
    "duration": 1300,
    "start_time": "2021-11-16T12:00:52.179Z"
   },
   {
    "duration": 4,
    "start_time": "2021-11-16T12:01:29.428Z"
   },
   {
    "duration": 7,
    "start_time": "2021-11-16T12:01:30.148Z"
   },
   {
    "duration": 1173,
    "start_time": "2021-11-16T12:01:31.996Z"
   },
   {
    "duration": 5,
    "start_time": "2021-11-16T12:01:46.596Z"
   },
   {
    "duration": 7,
    "start_time": "2021-11-16T12:01:47.203Z"
   },
   {
    "duration": 6069,
    "start_time": "2021-11-16T12:01:48.620Z"
   },
   {
    "duration": 8,
    "start_time": "2021-11-16T12:02:49.421Z"
   },
   {
    "duration": 5697,
    "start_time": "2021-11-16T12:02:51.436Z"
   },
   {
    "duration": 11,
    "start_time": "2021-11-16T12:05:14.286Z"
   },
   {
    "duration": 6115,
    "start_time": "2021-11-16T12:05:15.845Z"
   },
   {
    "duration": 9,
    "start_time": "2021-11-16T12:13:08.802Z"
   },
   {
    "duration": 6078,
    "start_time": "2021-11-16T12:13:09.946Z"
   },
   {
    "duration": 403,
    "start_time": "2021-11-16T12:13:37.138Z"
   },
   {
    "duration": 6,
    "start_time": "2021-11-16T12:13:56.131Z"
   },
   {
    "duration": 5,
    "start_time": "2021-11-16T12:14:17.722Z"
   },
   {
    "duration": 8,
    "start_time": "2021-11-16T12:14:23.643Z"
   },
   {
    "duration": 9532,
    "start_time": "2021-11-16T12:14:25.233Z"
   },
   {
    "duration": 6,
    "start_time": "2021-11-16T12:16:01.037Z"
   },
   {
    "duration": 575,
    "start_time": "2021-11-16T12:17:03.451Z"
   },
   {
    "duration": 6911,
    "start_time": "2021-11-16T12:17:22.861Z"
   },
   {
    "duration": 497,
    "start_time": "2021-11-16T12:20:06.829Z"
   },
   {
    "duration": 438,
    "start_time": "2021-11-16T12:20:14.109Z"
   },
   {
    "duration": 18,
    "start_time": "2021-11-16T12:20:33.445Z"
   },
   {
    "duration": 20,
    "start_time": "2021-11-16T12:20:43.351Z"
   },
   {
    "duration": 15,
    "start_time": "2021-11-16T12:20:53.633Z"
   },
   {
    "duration": 16,
    "start_time": "2021-11-16T12:21:02.181Z"
   },
   {
    "duration": 17,
    "start_time": "2021-11-16T12:21:07.925Z"
   },
   {
    "duration": 16,
    "start_time": "2021-11-16T12:21:16.029Z"
   },
   {
    "duration": 6,
    "start_time": "2021-11-16T12:21:32.461Z"
   },
   {
    "duration": 8,
    "start_time": "2021-11-16T12:21:34.772Z"
   },
   {
    "duration": 7146,
    "start_time": "2021-11-16T12:21:36.260Z"
   },
   {
    "duration": 6082,
    "start_time": "2021-11-16T12:22:06.782Z"
   },
   {
    "duration": 384,
    "start_time": "2021-11-16T12:22:34.063Z"
   },
   {
    "duration": 396,
    "start_time": "2021-11-16T12:22:34.477Z"
   },
   {
    "duration": 8247,
    "start_time": "2021-11-16T12:22:54.926Z"
   },
   {
    "duration": 5444,
    "start_time": "2021-11-16T12:23:03.177Z"
   },
   {
    "duration": 5322,
    "start_time": "2021-11-16T12:23:59.278Z"
   },
   {
    "duration": 5756,
    "start_time": "2021-11-16T12:24:24.439Z"
   },
   {
    "duration": 8261,
    "start_time": "2021-11-16T12:24:30.198Z"
   },
   {
    "duration": 6993,
    "start_time": "2021-11-16T12:25:09.000Z"
   },
   {
    "duration": 5397,
    "start_time": "2021-11-16T12:25:15.996Z"
   },
   {
    "duration": 145,
    "start_time": "2021-11-16T12:27:53.889Z"
   },
   {
    "duration": 126,
    "start_time": "2021-11-16T12:27:54.208Z"
   },
   {
    "duration": 138,
    "start_time": "2021-11-16T12:27:54.520Z"
   },
   {
    "duration": 8610,
    "start_time": "2021-11-16T12:28:13.121Z"
   },
   {
    "duration": 9269,
    "start_time": "2021-11-16T12:28:21.734Z"
   },
   {
    "duration": 6245,
    "start_time": "2021-11-16T12:28:31.006Z"
   },
   {
    "duration": 3,
    "start_time": "2021-11-16T12:35:20.404Z"
   },
   {
    "duration": 3,
    "start_time": "2021-11-16T12:35:23.363Z"
   },
   {
    "duration": 121,
    "start_time": "2021-11-16T12:41:59.727Z"
   },
   {
    "duration": 4382,
    "start_time": "2021-11-16T12:42:08.407Z"
   },
   {
    "duration": 3633,
    "start_time": "2021-11-16T12:43:24.192Z"
   },
   {
    "duration": 134,
    "start_time": "2021-11-16T12:43:34.297Z"
   },
   {
    "duration": 148,
    "start_time": "2021-11-16T12:43:45.624Z"
   },
   {
    "duration": 518,
    "start_time": "2021-11-16T12:43:49.337Z"
   },
   {
    "duration": 12594,
    "start_time": "2021-11-16T12:43:53.480Z"
   },
   {
    "duration": 4,
    "start_time": "2021-11-16T12:44:55.257Z"
   },
   {
    "duration": 3,
    "start_time": "2021-11-16T12:45:02.960Z"
   },
   {
    "duration": 9421,
    "start_time": "2021-11-16T12:45:47.707Z"
   },
   {
    "duration": 4,
    "start_time": "2021-11-16T12:46:04.609Z"
   },
   {
    "duration": 10094,
    "start_time": "2021-11-16T12:50:48.870Z"
   },
   {
    "duration": 5,
    "start_time": "2021-11-16T12:51:09.332Z"
   },
   {
    "duration": 3,
    "start_time": "2021-11-16T12:56:59.671Z"
   }
  ],
  "kernelspec": {
   "display_name": "Python 3",
   "language": "python",
   "name": "python3"
  },
  "language_info": {
   "codemirror_mode": {
    "name": "ipython",
    "version": 3
   },
   "file_extension": ".py",
   "mimetype": "text/x-python",
   "name": "python",
   "nbconvert_exporter": "python",
   "pygments_lexer": "ipython3",
   "version": "3.8.8"
  },
  "toc": {
   "base_numbering": 1,
   "nav_menu": {},
   "number_sections": true,
   "sideBar": true,
   "skip_h1_title": true,
   "title_cell": "Table of Contents",
   "title_sidebar": "Contents",
   "toc_cell": false,
   "toc_position": {},
   "toc_section_display": true,
   "toc_window_display": false
  }
 },
 "nbformat": 4,
 "nbformat_minor": 2
}
